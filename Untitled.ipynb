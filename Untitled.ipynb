{
 "cells": [
  {
   "cell_type": "code",
   "execution_count": 1,
   "id": "24722ee5",
   "metadata": {},
   "outputs": [],
   "source": [
    "import numpy as np\n",
    "import pandas as pd\n",
    "import plotly.graph_objects as go\n",
    "from plotly.subplots import make_subplots\n",
    "import plotly.figure_factory as ff\n",
    "import plotly.express as px\n",
    "import matplotlib as mpl\n",
    "import matplotlib.cm"
   ]
  },
  {
   "cell_type": "code",
   "execution_count": 2,
   "id": "bdd02539",
   "metadata": {},
   "outputs": [],
   "source": [
    "df_overall_data = pd.read_pickle('data/730PriceData_4.pkl')"
   ]
  },
  {
   "cell_type": "code",
   "execution_count": 3,
   "id": "e4a4e242",
   "metadata": {
    "scrolled": true
   },
   "outputs": [
    {
     "data": {
      "text/html": [
       "<div>\n",
       "<style scoped>\n",
       "    .dataframe tbody tr th:only-of-type {\n",
       "        vertical-align: middle;\n",
       "    }\n",
       "\n",
       "    .dataframe tbody tr th {\n",
       "        vertical-align: top;\n",
       "    }\n",
       "\n",
       "    .dataframe thead th {\n",
       "        text-align: right;\n",
       "    }\n",
       "</style>\n",
       "<table border=\"1\" class=\"dataframe\">\n",
       "  <thead>\n",
       "    <tr style=\"text-align: right;\">\n",
       "      <th></th>\n",
       "      <th>itemName</th>\n",
       "      <th>initial</th>\n",
       "      <th>timeOnMarket</th>\n",
       "      <th>priceIncrease</th>\n",
       "      <th>smoothChange</th>\n",
       "      <th>priceAvg</th>\n",
       "      <th>priceSD</th>\n",
       "      <th>maxPrice</th>\n",
       "      <th>maxIdx</th>\n",
       "      <th>minPrice</th>\n",
       "      <th>minIdx</th>\n",
       "      <th>swing</th>\n",
       "      <th>volAvg</th>\n",
       "      <th>volSD</th>\n",
       "      <th>slope</th>\n",
       "      <th>rr</th>\n",
       "    </tr>\n",
       "  </thead>\n",
       "  <tbody>\n",
       "    <tr>\n",
       "      <th>16287</th>\n",
       "      <td>★ Bayonet | Scorched (Well-Worn)</td>\n",
       "      <td>72.796</td>\n",
       "      <td>2819</td>\n",
       "      <td>676.641000</td>\n",
       "      <td>435.221050</td>\n",
       "      <td>432.814100</td>\n",
       "      <td>131.816177</td>\n",
       "      <td>999.962</td>\n",
       "      <td>734</td>\n",
       "      <td>2.026000</td>\n",
       "      <td>993</td>\n",
       "      <td>997.936000</td>\n",
       "      <td>2.194310</td>\n",
       "      <td>1.613956</td>\n",
       "      <td>0.119542</td>\n",
       "      <td>0.142316</td>\n",
       "    </tr>\n",
       "    <tr>\n",
       "      <th>16288</th>\n",
       "      <td>Souvenir UMP-45 | Facility Dark (Battle-Scarred)</td>\n",
       "      <td>11.544</td>\n",
       "      <td>1007</td>\n",
       "      <td>-4.286125</td>\n",
       "      <td>-3.553275</td>\n",
       "      <td>2.614378</td>\n",
       "      <td>17.618397</td>\n",
       "      <td>447.542</td>\n",
       "      <td>396</td>\n",
       "      <td>0.495000</td>\n",
       "      <td>270</td>\n",
       "      <td>447.047000</td>\n",
       "      <td>3.341951</td>\n",
       "      <td>3.467745</td>\n",
       "      <td>-0.000347</td>\n",
       "      <td>0.000023</td>\n",
       "    </tr>\n",
       "    <tr>\n",
       "      <th>16289</th>\n",
       "      <td>★ StatTrak™ Gut Knife | Safari Mesh (Well-Worn)</td>\n",
       "      <td>40.249</td>\n",
       "      <td>2797</td>\n",
       "      <td>70.383000</td>\n",
       "      <td>-154.793600</td>\n",
       "      <td>338.859201</td>\n",
       "      <td>100.123212</td>\n",
       "      <td>719.854</td>\n",
       "      <td>6</td>\n",
       "      <td>110.262000</td>\n",
       "      <td>149</td>\n",
       "      <td>609.592000</td>\n",
       "      <td>1.190311</td>\n",
       "      <td>0.534398</td>\n",
       "      <td>-0.218472</td>\n",
       "      <td>0.033138</td>\n",
       "    </tr>\n",
       "    <tr>\n",
       "      <th>16290</th>\n",
       "      <td>StatTrak™ CZ75-Auto | Vendetta (Factory New)</td>\n",
       "      <td>3.988</td>\n",
       "      <td>188</td>\n",
       "      <td>-3.026875</td>\n",
       "      <td>-3.636158</td>\n",
       "      <td>9.715509</td>\n",
       "      <td>1.991920</td>\n",
       "      <td>20.597</td>\n",
       "      <td>9</td>\n",
       "      <td>6.591125</td>\n",
       "      <td>188</td>\n",
       "      <td>14.005875</td>\n",
       "      <td>17.354497</td>\n",
       "      <td>10.745061</td>\n",
       "      <td>-0.025648</td>\n",
       "      <td>0.493514</td>\n",
       "    </tr>\n",
       "    <tr>\n",
       "      <th>16291</th>\n",
       "      <td>SG 553 | Triarch (Factory New)</td>\n",
       "      <td>4.396</td>\n",
       "      <td>1755</td>\n",
       "      <td>-19.191105</td>\n",
       "      <td>-11.046210</td>\n",
       "      <td>8.896845</td>\n",
       "      <td>5.304569</td>\n",
       "      <td>31.056</td>\n",
       "      <td>1</td>\n",
       "      <td>3.292000</td>\n",
       "      <td>676</td>\n",
       "      <td>27.764000</td>\n",
       "      <td>29.169134</td>\n",
       "      <td>10.572851</td>\n",
       "      <td>0.003827</td>\n",
       "      <td>0.133748</td>\n",
       "    </tr>\n",
       "  </tbody>\n",
       "</table>\n",
       "</div>"
      ],
      "text/plain": [
       "                                               itemName  initial timeOnMarket  \\\n",
       "16287                  ★ Bayonet | Scorched (Well-Worn)   72.796         2819   \n",
       "16288  Souvenir UMP-45 | Facility Dark (Battle-Scarred)   11.544         1007   \n",
       "16289   ★ StatTrak™ Gut Knife | Safari Mesh (Well-Worn)   40.249         2797   \n",
       "16290      StatTrak™ CZ75-Auto | Vendetta (Factory New)    3.988          188   \n",
       "16291                    SG 553 | Triarch (Factory New)    4.396         1755   \n",
       "\n",
       "       priceIncrease  smoothChange    priceAvg     priceSD  maxPrice maxIdx  \\\n",
       "16287     676.641000    435.221050  432.814100  131.816177   999.962    734   \n",
       "16288      -4.286125     -3.553275    2.614378   17.618397   447.542    396   \n",
       "16289      70.383000   -154.793600  338.859201  100.123212   719.854      6   \n",
       "16290      -3.026875     -3.636158    9.715509    1.991920    20.597      9   \n",
       "16291     -19.191105    -11.046210    8.896845    5.304569    31.056      1   \n",
       "\n",
       "         minPrice minIdx       swing     volAvg      volSD     slope        rr  \n",
       "16287    2.026000    993  997.936000   2.194310   1.613956  0.119542  0.142316  \n",
       "16288    0.495000    270  447.047000   3.341951   3.467745 -0.000347  0.000023  \n",
       "16289  110.262000    149  609.592000   1.190311   0.534398 -0.218472  0.033138  \n",
       "16290    6.591125    188   14.005875  17.354497  10.745061 -0.025648  0.493514  \n",
       "16291    3.292000    676   27.764000  29.169134  10.572851  0.003827  0.133748  "
      ]
     },
     "execution_count": 3,
     "metadata": {},
     "output_type": "execute_result"
    }
   ],
   "source": [
    "df_overall_data.tail()"
   ]
  },
  {
   "cell_type": "code",
   "execution_count": 4,
   "id": "f4197955",
   "metadata": {},
   "outputs": [],
   "source": [
    "df_price = pd.read_pickle('data/730marketPrice2.pkl')"
   ]
  },
  {
   "cell_type": "code",
   "execution_count": 5,
   "id": "447b83d1",
   "metadata": {},
   "outputs": [
    {
     "data": {
      "text/html": [
       "<div>\n",
       "<style scoped>\n",
       "    .dataframe tbody tr th:only-of-type {\n",
       "        vertical-align: middle;\n",
       "    }\n",
       "\n",
       "    .dataframe tbody tr th {\n",
       "        vertical-align: top;\n",
       "    }\n",
       "\n",
       "    .dataframe thead th {\n",
       "        text-align: right;\n",
       "    }\n",
       "</style>\n",
       "<table border=\"1\" class=\"dataframe\">\n",
       "  <thead>\n",
       "    <tr style=\"text-align: right;\">\n",
       "      <th></th>\n",
       "      <th>Sticker | BnTeT | Boston 2018</th>\n",
       "      <th>StatTrak™ Desert Eagle | Golden Koi (Minimal Wear)</th>\n",
       "      <th>Sticker | BIG (Foil) | Boston 2018</th>\n",
       "      <th>P250 | See Ya Later (Well-Worn)</th>\n",
       "      <th>★ StatTrak™ Talon Knife | Marble Fade (Minimal Wear)</th>\n",
       "      <th>Sealed Graffiti | Recoil MP9 (Tiger Orange)</th>\n",
       "      <th>Sticker | MAJ3R (Gold) | Boston 2018</th>\n",
       "      <th>StatTrak™ AK-47 | Asiimov (Factory New)</th>\n",
       "      <th>Souvenir Galil AR | VariCamo (Battle-Scarred)</th>\n",
       "      <th>Sticker | mir (Gold) | London 2018</th>\n",
       "      <th>...</th>\n",
       "      <th>P90 | Shapewood (Minimal Wear)</th>\n",
       "      <th>MP9 | Hydra (Factory New)</th>\n",
       "      <th>Sealed Graffiti | Recoil PP-Bizon (Desert Amber)</th>\n",
       "      <th>★ Bowie Knife | Doppler (Factory New)</th>\n",
       "      <th>★ StatTrak™ Huntsman Knife | Ultraviolet (Minimal Wear)</th>\n",
       "      <th>★ Bayonet | Scorched (Well-Worn)</th>\n",
       "      <th>Souvenir UMP-45 | Facility Dark (Battle-Scarred)</th>\n",
       "      <th>★ StatTrak™ Gut Knife | Safari Mesh (Well-Worn)</th>\n",
       "      <th>StatTrak™ CZ75-Auto | Vendetta (Factory New)</th>\n",
       "      <th>SG 553 | Triarch (Factory New)</th>\n",
       "    </tr>\n",
       "    <tr>\n",
       "      <th>date</th>\n",
       "      <th></th>\n",
       "      <th></th>\n",
       "      <th></th>\n",
       "      <th></th>\n",
       "      <th></th>\n",
       "      <th></th>\n",
       "      <th></th>\n",
       "      <th></th>\n",
       "      <th></th>\n",
       "      <th></th>\n",
       "      <th></th>\n",
       "      <th></th>\n",
       "      <th></th>\n",
       "      <th></th>\n",
       "      <th></th>\n",
       "      <th></th>\n",
       "      <th></th>\n",
       "      <th></th>\n",
       "      <th></th>\n",
       "      <th></th>\n",
       "      <th></th>\n",
       "    </tr>\n",
       "  </thead>\n",
       "  <tbody>\n",
       "    <tr>\n",
       "      <th>2021-06-05</th>\n",
       "      <td>NaN</td>\n",
       "      <td>NaN</td>\n",
       "      <td>108.687</td>\n",
       "      <td>26.494026</td>\n",
       "      <td>NaN</td>\n",
       "      <td>NaN</td>\n",
       "      <td>NaN</td>\n",
       "      <td>3584.335</td>\n",
       "      <td>NaN</td>\n",
       "      <td>NaN</td>\n",
       "      <td>...</td>\n",
       "      <td>21.633000</td>\n",
       "      <td>64.643488</td>\n",
       "      <td>4.505</td>\n",
       "      <td>1840.777430</td>\n",
       "      <td>NaN</td>\n",
       "      <td>NaN</td>\n",
       "      <td>2.994875</td>\n",
       "      <td>NaN</td>\n",
       "      <td>9.393500</td>\n",
       "      <td>7.465332</td>\n",
       "    </tr>\n",
       "    <tr>\n",
       "      <th>2021-06-06</th>\n",
       "      <td>NaN</td>\n",
       "      <td>NaN</td>\n",
       "      <td>NaN</td>\n",
       "      <td>24.423823</td>\n",
       "      <td>NaN</td>\n",
       "      <td>NaN</td>\n",
       "      <td>NaN</td>\n",
       "      <td>NaN</td>\n",
       "      <td>NaN</td>\n",
       "      <td>NaN</td>\n",
       "      <td>...</td>\n",
       "      <td>19.158600</td>\n",
       "      <td>67.046871</td>\n",
       "      <td>NaN</td>\n",
       "      <td>1393.519812</td>\n",
       "      <td>914.334</td>\n",
       "      <td>NaN</td>\n",
       "      <td>2.857000</td>\n",
       "      <td>NaN</td>\n",
       "      <td>8.907375</td>\n",
       "      <td>8.661115</td>\n",
       "    </tr>\n",
       "    <tr>\n",
       "      <th>2021-06-07</th>\n",
       "      <td>NaN</td>\n",
       "      <td>NaN</td>\n",
       "      <td>NaN</td>\n",
       "      <td>25.171117</td>\n",
       "      <td>NaN</td>\n",
       "      <td>NaN</td>\n",
       "      <td>NaN</td>\n",
       "      <td>NaN</td>\n",
       "      <td>NaN</td>\n",
       "      <td>NaN</td>\n",
       "      <td>...</td>\n",
       "      <td>18.902127</td>\n",
       "      <td>70.133874</td>\n",
       "      <td>NaN</td>\n",
       "      <td>1636.398766</td>\n",
       "      <td>NaN</td>\n",
       "      <td>900.057</td>\n",
       "      <td>2.782250</td>\n",
       "      <td>NaN</td>\n",
       "      <td>8.222500</td>\n",
       "      <td>6.562811</td>\n",
       "    </tr>\n",
       "    <tr>\n",
       "      <th>2021-06-08</th>\n",
       "      <td>NaN</td>\n",
       "      <td>NaN</td>\n",
       "      <td>108.760</td>\n",
       "      <td>25.133152</td>\n",
       "      <td>NaN</td>\n",
       "      <td>NaN</td>\n",
       "      <td>NaN</td>\n",
       "      <td>3536.629</td>\n",
       "      <td>NaN</td>\n",
       "      <td>NaN</td>\n",
       "      <td>...</td>\n",
       "      <td>19.890149</td>\n",
       "      <td>69.710250</td>\n",
       "      <td>NaN</td>\n",
       "      <td>1594.921000</td>\n",
       "      <td>873.949</td>\n",
       "      <td>NaN</td>\n",
       "      <td>2.859375</td>\n",
       "      <td>NaN</td>\n",
       "      <td>8.229531</td>\n",
       "      <td>6.914531</td>\n",
       "    </tr>\n",
       "    <tr>\n",
       "      <th>2021-06-09</th>\n",
       "      <td>NaN</td>\n",
       "      <td>NaN</td>\n",
       "      <td>NaN</td>\n",
       "      <td>25.486750</td>\n",
       "      <td>NaN</td>\n",
       "      <td>NaN</td>\n",
       "      <td>NaN</td>\n",
       "      <td>NaN</td>\n",
       "      <td>NaN</td>\n",
       "      <td>NaN</td>\n",
       "      <td>...</td>\n",
       "      <td>19.424281</td>\n",
       "      <td>65.508500</td>\n",
       "      <td>NaN</td>\n",
       "      <td>1816.658750</td>\n",
       "      <td>NaN</td>\n",
       "      <td>950.003</td>\n",
       "      <td>3.003875</td>\n",
       "      <td>NaN</td>\n",
       "      <td>6.591125</td>\n",
       "      <td>7.468895</td>\n",
       "    </tr>\n",
       "  </tbody>\n",
       "</table>\n",
       "<p>5 rows × 16292 columns</p>\n",
       "</div>"
      ],
      "text/plain": [
       "            Sticker | BnTeT | Boston 2018  \\\n",
       "date                                        \n",
       "2021-06-05                            NaN   \n",
       "2021-06-06                            NaN   \n",
       "2021-06-07                            NaN   \n",
       "2021-06-08                            NaN   \n",
       "2021-06-09                            NaN   \n",
       "\n",
       "            StatTrak™ Desert Eagle | Golden Koi (Minimal Wear)  \\\n",
       "date                                                             \n",
       "2021-06-05                                                NaN    \n",
       "2021-06-06                                                NaN    \n",
       "2021-06-07                                                NaN    \n",
       "2021-06-08                                                NaN    \n",
       "2021-06-09                                                NaN    \n",
       "\n",
       "            Sticker | BIG (Foil) | Boston 2018  \\\n",
       "date                                             \n",
       "2021-06-05                             108.687   \n",
       "2021-06-06                                 NaN   \n",
       "2021-06-07                                 NaN   \n",
       "2021-06-08                             108.760   \n",
       "2021-06-09                                 NaN   \n",
       "\n",
       "            P250 | See Ya Later (Well-Worn)  \\\n",
       "date                                          \n",
       "2021-06-05                        26.494026   \n",
       "2021-06-06                        24.423823   \n",
       "2021-06-07                        25.171117   \n",
       "2021-06-08                        25.133152   \n",
       "2021-06-09                        25.486750   \n",
       "\n",
       "            ★ StatTrak™ Talon Knife | Marble Fade (Minimal Wear)  \\\n",
       "date                                                               \n",
       "2021-06-05                                                NaN      \n",
       "2021-06-06                                                NaN      \n",
       "2021-06-07                                                NaN      \n",
       "2021-06-08                                                NaN      \n",
       "2021-06-09                                                NaN      \n",
       "\n",
       "            Sealed Graffiti | Recoil MP9 (Tiger Orange)  \\\n",
       "date                                                      \n",
       "2021-06-05                                          NaN   \n",
       "2021-06-06                                          NaN   \n",
       "2021-06-07                                          NaN   \n",
       "2021-06-08                                          NaN   \n",
       "2021-06-09                                          NaN   \n",
       "\n",
       "            Sticker | MAJ3R (Gold) | Boston 2018  \\\n",
       "date                                               \n",
       "2021-06-05                                   NaN   \n",
       "2021-06-06                                   NaN   \n",
       "2021-06-07                                   NaN   \n",
       "2021-06-08                                   NaN   \n",
       "2021-06-09                                   NaN   \n",
       "\n",
       "            StatTrak™ AK-47 | Asiimov (Factory New)  \\\n",
       "date                                                  \n",
       "2021-06-05                                 3584.335   \n",
       "2021-06-06                                      NaN   \n",
       "2021-06-07                                      NaN   \n",
       "2021-06-08                                 3536.629   \n",
       "2021-06-09                                      NaN   \n",
       "\n",
       "            Souvenir Galil AR | VariCamo (Battle-Scarred)  \\\n",
       "date                                                        \n",
       "2021-06-05                                            NaN   \n",
       "2021-06-06                                            NaN   \n",
       "2021-06-07                                            NaN   \n",
       "2021-06-08                                            NaN   \n",
       "2021-06-09                                            NaN   \n",
       "\n",
       "            Sticker | mir (Gold) | London 2018  ...  \\\n",
       "date                                            ...   \n",
       "2021-06-05                                 NaN  ...   \n",
       "2021-06-06                                 NaN  ...   \n",
       "2021-06-07                                 NaN  ...   \n",
       "2021-06-08                                 NaN  ...   \n",
       "2021-06-09                                 NaN  ...   \n",
       "\n",
       "            P90 | Shapewood (Minimal Wear)  MP9 | Hydra (Factory New)  \\\n",
       "date                                                                    \n",
       "2021-06-05                       21.633000                  64.643488   \n",
       "2021-06-06                       19.158600                  67.046871   \n",
       "2021-06-07                       18.902127                  70.133874   \n",
       "2021-06-08                       19.890149                  69.710250   \n",
       "2021-06-09                       19.424281                  65.508500   \n",
       "\n",
       "            Sealed Graffiti | Recoil PP-Bizon (Desert Amber)  \\\n",
       "date                                                           \n",
       "2021-06-05                                             4.505   \n",
       "2021-06-06                                               NaN   \n",
       "2021-06-07                                               NaN   \n",
       "2021-06-08                                               NaN   \n",
       "2021-06-09                                               NaN   \n",
       "\n",
       "            ★ Bowie Knife | Doppler (Factory New)  \\\n",
       "date                                                \n",
       "2021-06-05                            1840.777430   \n",
       "2021-06-06                            1393.519812   \n",
       "2021-06-07                            1636.398766   \n",
       "2021-06-08                            1594.921000   \n",
       "2021-06-09                            1816.658750   \n",
       "\n",
       "            ★ StatTrak™ Huntsman Knife | Ultraviolet (Minimal Wear)  \\\n",
       "date                                                                  \n",
       "2021-06-05                                                NaN         \n",
       "2021-06-06                                            914.334         \n",
       "2021-06-07                                                NaN         \n",
       "2021-06-08                                            873.949         \n",
       "2021-06-09                                                NaN         \n",
       "\n",
       "            ★ Bayonet | Scorched (Well-Worn)  \\\n",
       "date                                           \n",
       "2021-06-05                               NaN   \n",
       "2021-06-06                               NaN   \n",
       "2021-06-07                           900.057   \n",
       "2021-06-08                               NaN   \n",
       "2021-06-09                           950.003   \n",
       "\n",
       "            Souvenir UMP-45 | Facility Dark (Battle-Scarred)  \\\n",
       "date                                                           \n",
       "2021-06-05                                          2.994875   \n",
       "2021-06-06                                          2.857000   \n",
       "2021-06-07                                          2.782250   \n",
       "2021-06-08                                          2.859375   \n",
       "2021-06-09                                          3.003875   \n",
       "\n",
       "            ★ StatTrak™ Gut Knife | Safari Mesh (Well-Worn)  \\\n",
       "date                                                          \n",
       "2021-06-05                                              NaN   \n",
       "2021-06-06                                              NaN   \n",
       "2021-06-07                                              NaN   \n",
       "2021-06-08                                              NaN   \n",
       "2021-06-09                                              NaN   \n",
       "\n",
       "            StatTrak™ CZ75-Auto | Vendetta (Factory New)  \\\n",
       "date                                                       \n",
       "2021-06-05                                      9.393500   \n",
       "2021-06-06                                      8.907375   \n",
       "2021-06-07                                      8.222500   \n",
       "2021-06-08                                      8.229531   \n",
       "2021-06-09                                      6.591125   \n",
       "\n",
       "            SG 553 | Triarch (Factory New)  \n",
       "date                                        \n",
       "2021-06-05                        7.465332  \n",
       "2021-06-06                        8.661115  \n",
       "2021-06-07                        6.562811  \n",
       "2021-06-08                        6.914531  \n",
       "2021-06-09                        7.468895  \n",
       "\n",
       "[5 rows x 16292 columns]"
      ]
     },
     "execution_count": 5,
     "metadata": {},
     "output_type": "execute_result"
    }
   ],
   "source": [
    "df_price.tail()"
   ]
  },
  {
   "cell_type": "code",
   "execution_count": 6,
   "id": "e782f33c",
   "metadata": {},
   "outputs": [],
   "source": [
    "df_vol = pd.read_pickle('data/730marketVol2.pkl')"
   ]
  },
  {
   "cell_type": "code",
   "execution_count": 7,
   "id": "58a9364f",
   "metadata": {},
   "outputs": [
    {
     "data": {
      "text/html": [
       "<div>\n",
       "<style scoped>\n",
       "    .dataframe tbody tr th:only-of-type {\n",
       "        vertical-align: middle;\n",
       "    }\n",
       "\n",
       "    .dataframe tbody tr th {\n",
       "        vertical-align: top;\n",
       "    }\n",
       "\n",
       "    .dataframe thead th {\n",
       "        text-align: right;\n",
       "    }\n",
       "</style>\n",
       "<table border=\"1\" class=\"dataframe\">\n",
       "  <thead>\n",
       "    <tr style=\"text-align: right;\">\n",
       "      <th></th>\n",
       "      <th>Sticker | BnTeT | Boston 2018</th>\n",
       "      <th>StatTrak™ Desert Eagle | Golden Koi (Minimal Wear)</th>\n",
       "      <th>Sticker | BIG (Foil) | Boston 2018</th>\n",
       "      <th>P250 | See Ya Later (Well-Worn)</th>\n",
       "      <th>★ StatTrak™ Talon Knife | Marble Fade (Minimal Wear)</th>\n",
       "      <th>Sealed Graffiti | Recoil MP9 (Tiger Orange)</th>\n",
       "      <th>Sticker | MAJ3R (Gold) | Boston 2018</th>\n",
       "      <th>StatTrak™ AK-47 | Asiimov (Factory New)</th>\n",
       "      <th>Souvenir Galil AR | VariCamo (Battle-Scarred)</th>\n",
       "      <th>Sticker | mir (Gold) | London 2018</th>\n",
       "      <th>...</th>\n",
       "      <th>P90 | Shapewood (Minimal Wear)</th>\n",
       "      <th>MP9 | Hydra (Factory New)</th>\n",
       "      <th>Sealed Graffiti | Recoil PP-Bizon (Desert Amber)</th>\n",
       "      <th>★ Bowie Knife | Doppler (Factory New)</th>\n",
       "      <th>★ StatTrak™ Huntsman Knife | Ultraviolet (Minimal Wear)</th>\n",
       "      <th>★ Bayonet | Scorched (Well-Worn)</th>\n",
       "      <th>Souvenir UMP-45 | Facility Dark (Battle-Scarred)</th>\n",
       "      <th>★ StatTrak™ Gut Knife | Safari Mesh (Well-Worn)</th>\n",
       "      <th>StatTrak™ CZ75-Auto | Vendetta (Factory New)</th>\n",
       "      <th>SG 553 | Triarch (Factory New)</th>\n",
       "    </tr>\n",
       "    <tr>\n",
       "      <th>date</th>\n",
       "      <th></th>\n",
       "      <th></th>\n",
       "      <th></th>\n",
       "      <th></th>\n",
       "      <th></th>\n",
       "      <th></th>\n",
       "      <th></th>\n",
       "      <th></th>\n",
       "      <th></th>\n",
       "      <th></th>\n",
       "      <th></th>\n",
       "      <th></th>\n",
       "      <th></th>\n",
       "      <th></th>\n",
       "      <th></th>\n",
       "      <th></th>\n",
       "      <th></th>\n",
       "      <th></th>\n",
       "      <th></th>\n",
       "      <th></th>\n",
       "      <th></th>\n",
       "    </tr>\n",
       "  </thead>\n",
       "  <tbody>\n",
       "    <tr>\n",
       "      <th>2012-07-01</th>\n",
       "      <td>NaN</td>\n",
       "      <td>NaN</td>\n",
       "      <td>NaN</td>\n",
       "      <td>NaN</td>\n",
       "      <td>NaN</td>\n",
       "      <td>NaN</td>\n",
       "      <td>NaN</td>\n",
       "      <td>NaN</td>\n",
       "      <td>NaN</td>\n",
       "      <td>NaN</td>\n",
       "      <td>...</td>\n",
       "      <td>NaN</td>\n",
       "      <td>NaN</td>\n",
       "      <td>NaN</td>\n",
       "      <td>NaN</td>\n",
       "      <td>NaN</td>\n",
       "      <td>NaN</td>\n",
       "      <td>NaN</td>\n",
       "      <td>NaN</td>\n",
       "      <td>NaN</td>\n",
       "      <td>NaN</td>\n",
       "    </tr>\n",
       "    <tr>\n",
       "      <th>2012-07-02</th>\n",
       "      <td>NaN</td>\n",
       "      <td>NaN</td>\n",
       "      <td>NaN</td>\n",
       "      <td>NaN</td>\n",
       "      <td>NaN</td>\n",
       "      <td>NaN</td>\n",
       "      <td>NaN</td>\n",
       "      <td>NaN</td>\n",
       "      <td>NaN</td>\n",
       "      <td>NaN</td>\n",
       "      <td>...</td>\n",
       "      <td>NaN</td>\n",
       "      <td>NaN</td>\n",
       "      <td>NaN</td>\n",
       "      <td>NaN</td>\n",
       "      <td>NaN</td>\n",
       "      <td>NaN</td>\n",
       "      <td>NaN</td>\n",
       "      <td>NaN</td>\n",
       "      <td>NaN</td>\n",
       "      <td>NaN</td>\n",
       "    </tr>\n",
       "    <tr>\n",
       "      <th>2012-07-03</th>\n",
       "      <td>NaN</td>\n",
       "      <td>NaN</td>\n",
       "      <td>NaN</td>\n",
       "      <td>NaN</td>\n",
       "      <td>NaN</td>\n",
       "      <td>NaN</td>\n",
       "      <td>NaN</td>\n",
       "      <td>NaN</td>\n",
       "      <td>NaN</td>\n",
       "      <td>NaN</td>\n",
       "      <td>...</td>\n",
       "      <td>NaN</td>\n",
       "      <td>NaN</td>\n",
       "      <td>NaN</td>\n",
       "      <td>NaN</td>\n",
       "      <td>NaN</td>\n",
       "      <td>NaN</td>\n",
       "      <td>NaN</td>\n",
       "      <td>NaN</td>\n",
       "      <td>NaN</td>\n",
       "      <td>NaN</td>\n",
       "    </tr>\n",
       "    <tr>\n",
       "      <th>2012-07-04</th>\n",
       "      <td>NaN</td>\n",
       "      <td>NaN</td>\n",
       "      <td>NaN</td>\n",
       "      <td>NaN</td>\n",
       "      <td>NaN</td>\n",
       "      <td>NaN</td>\n",
       "      <td>NaN</td>\n",
       "      <td>NaN</td>\n",
       "      <td>NaN</td>\n",
       "      <td>NaN</td>\n",
       "      <td>...</td>\n",
       "      <td>NaN</td>\n",
       "      <td>NaN</td>\n",
       "      <td>NaN</td>\n",
       "      <td>NaN</td>\n",
       "      <td>NaN</td>\n",
       "      <td>NaN</td>\n",
       "      <td>NaN</td>\n",
       "      <td>NaN</td>\n",
       "      <td>NaN</td>\n",
       "      <td>NaN</td>\n",
       "    </tr>\n",
       "    <tr>\n",
       "      <th>2012-07-05</th>\n",
       "      <td>NaN</td>\n",
       "      <td>NaN</td>\n",
       "      <td>NaN</td>\n",
       "      <td>NaN</td>\n",
       "      <td>NaN</td>\n",
       "      <td>NaN</td>\n",
       "      <td>NaN</td>\n",
       "      <td>NaN</td>\n",
       "      <td>NaN</td>\n",
       "      <td>NaN</td>\n",
       "      <td>...</td>\n",
       "      <td>NaN</td>\n",
       "      <td>NaN</td>\n",
       "      <td>NaN</td>\n",
       "      <td>NaN</td>\n",
       "      <td>NaN</td>\n",
       "      <td>NaN</td>\n",
       "      <td>NaN</td>\n",
       "      <td>NaN</td>\n",
       "      <td>NaN</td>\n",
       "      <td>NaN</td>\n",
       "    </tr>\n",
       "  </tbody>\n",
       "</table>\n",
       "<p>5 rows × 16292 columns</p>\n",
       "</div>"
      ],
      "text/plain": [
       "            Sticker | BnTeT | Boston 2018  \\\n",
       "date                                        \n",
       "2012-07-01                            NaN   \n",
       "2012-07-02                            NaN   \n",
       "2012-07-03                            NaN   \n",
       "2012-07-04                            NaN   \n",
       "2012-07-05                            NaN   \n",
       "\n",
       "            StatTrak™ Desert Eagle | Golden Koi (Minimal Wear)  \\\n",
       "date                                                             \n",
       "2012-07-01                                                NaN    \n",
       "2012-07-02                                                NaN    \n",
       "2012-07-03                                                NaN    \n",
       "2012-07-04                                                NaN    \n",
       "2012-07-05                                                NaN    \n",
       "\n",
       "            Sticker | BIG (Foil) | Boston 2018  \\\n",
       "date                                             \n",
       "2012-07-01                                 NaN   \n",
       "2012-07-02                                 NaN   \n",
       "2012-07-03                                 NaN   \n",
       "2012-07-04                                 NaN   \n",
       "2012-07-05                                 NaN   \n",
       "\n",
       "            P250 | See Ya Later (Well-Worn)  \\\n",
       "date                                          \n",
       "2012-07-01                              NaN   \n",
       "2012-07-02                              NaN   \n",
       "2012-07-03                              NaN   \n",
       "2012-07-04                              NaN   \n",
       "2012-07-05                              NaN   \n",
       "\n",
       "            ★ StatTrak™ Talon Knife | Marble Fade (Minimal Wear)  \\\n",
       "date                                                               \n",
       "2012-07-01                                                NaN      \n",
       "2012-07-02                                                NaN      \n",
       "2012-07-03                                                NaN      \n",
       "2012-07-04                                                NaN      \n",
       "2012-07-05                                                NaN      \n",
       "\n",
       "            Sealed Graffiti | Recoil MP9 (Tiger Orange)  \\\n",
       "date                                                      \n",
       "2012-07-01                                          NaN   \n",
       "2012-07-02                                          NaN   \n",
       "2012-07-03                                          NaN   \n",
       "2012-07-04                                          NaN   \n",
       "2012-07-05                                          NaN   \n",
       "\n",
       "            Sticker | MAJ3R (Gold) | Boston 2018  \\\n",
       "date                                               \n",
       "2012-07-01                                   NaN   \n",
       "2012-07-02                                   NaN   \n",
       "2012-07-03                                   NaN   \n",
       "2012-07-04                                   NaN   \n",
       "2012-07-05                                   NaN   \n",
       "\n",
       "            StatTrak™ AK-47 | Asiimov (Factory New)  \\\n",
       "date                                                  \n",
       "2012-07-01                                      NaN   \n",
       "2012-07-02                                      NaN   \n",
       "2012-07-03                                      NaN   \n",
       "2012-07-04                                      NaN   \n",
       "2012-07-05                                      NaN   \n",
       "\n",
       "            Souvenir Galil AR | VariCamo (Battle-Scarred)  \\\n",
       "date                                                        \n",
       "2012-07-01                                            NaN   \n",
       "2012-07-02                                            NaN   \n",
       "2012-07-03                                            NaN   \n",
       "2012-07-04                                            NaN   \n",
       "2012-07-05                                            NaN   \n",
       "\n",
       "            Sticker | mir (Gold) | London 2018  ...  \\\n",
       "date                                            ...   \n",
       "2012-07-01                                 NaN  ...   \n",
       "2012-07-02                                 NaN  ...   \n",
       "2012-07-03                                 NaN  ...   \n",
       "2012-07-04                                 NaN  ...   \n",
       "2012-07-05                                 NaN  ...   \n",
       "\n",
       "            P90 | Shapewood (Minimal Wear)  MP9 | Hydra (Factory New)  \\\n",
       "date                                                                    \n",
       "2012-07-01                             NaN                        NaN   \n",
       "2012-07-02                             NaN                        NaN   \n",
       "2012-07-03                             NaN                        NaN   \n",
       "2012-07-04                             NaN                        NaN   \n",
       "2012-07-05                             NaN                        NaN   \n",
       "\n",
       "            Sealed Graffiti | Recoil PP-Bizon (Desert Amber)  \\\n",
       "date                                                           \n",
       "2012-07-01                                               NaN   \n",
       "2012-07-02                                               NaN   \n",
       "2012-07-03                                               NaN   \n",
       "2012-07-04                                               NaN   \n",
       "2012-07-05                                               NaN   \n",
       "\n",
       "            ★ Bowie Knife | Doppler (Factory New)  \\\n",
       "date                                                \n",
       "2012-07-01                                    NaN   \n",
       "2012-07-02                                    NaN   \n",
       "2012-07-03                                    NaN   \n",
       "2012-07-04                                    NaN   \n",
       "2012-07-05                                    NaN   \n",
       "\n",
       "            ★ StatTrak™ Huntsman Knife | Ultraviolet (Minimal Wear)  \\\n",
       "date                                                                  \n",
       "2012-07-01                                                NaN         \n",
       "2012-07-02                                                NaN         \n",
       "2012-07-03                                                NaN         \n",
       "2012-07-04                                                NaN         \n",
       "2012-07-05                                                NaN         \n",
       "\n",
       "            ★ Bayonet | Scorched (Well-Worn)  \\\n",
       "date                                           \n",
       "2012-07-01                               NaN   \n",
       "2012-07-02                               NaN   \n",
       "2012-07-03                               NaN   \n",
       "2012-07-04                               NaN   \n",
       "2012-07-05                               NaN   \n",
       "\n",
       "            Souvenir UMP-45 | Facility Dark (Battle-Scarred)  \\\n",
       "date                                                           \n",
       "2012-07-01                                               NaN   \n",
       "2012-07-02                                               NaN   \n",
       "2012-07-03                                               NaN   \n",
       "2012-07-04                                               NaN   \n",
       "2012-07-05                                               NaN   \n",
       "\n",
       "            ★ StatTrak™ Gut Knife | Safari Mesh (Well-Worn)  \\\n",
       "date                                                          \n",
       "2012-07-01                                              NaN   \n",
       "2012-07-02                                              NaN   \n",
       "2012-07-03                                              NaN   \n",
       "2012-07-04                                              NaN   \n",
       "2012-07-05                                              NaN   \n",
       "\n",
       "            StatTrak™ CZ75-Auto | Vendetta (Factory New)  \\\n",
       "date                                                       \n",
       "2012-07-01                                           NaN   \n",
       "2012-07-02                                           NaN   \n",
       "2012-07-03                                           NaN   \n",
       "2012-07-04                                           NaN   \n",
       "2012-07-05                                           NaN   \n",
       "\n",
       "            SG 553 | Triarch (Factory New)  \n",
       "date                                        \n",
       "2012-07-01                             NaN  \n",
       "2012-07-02                             NaN  \n",
       "2012-07-03                             NaN  \n",
       "2012-07-04                             NaN  \n",
       "2012-07-05                             NaN  \n",
       "\n",
       "[5 rows x 16292 columns]"
      ]
     },
     "execution_count": 7,
     "metadata": {},
     "output_type": "execute_result"
    }
   ],
   "source": [
    "df_vol.head()"
   ]
  },
  {
   "cell_type": "code",
   "execution_count": 8,
   "id": "d37d5319",
   "metadata": {},
   "outputs": [],
   "source": [
    "df_delta = pd.read_pickle('data/730marketDelta2.pkl')"
   ]
  },
  {
   "cell_type": "code",
   "execution_count": 9,
   "id": "91c17bdd",
   "metadata": {},
   "outputs": [
    {
     "data": {
      "text/html": [
       "<div>\n",
       "<style scoped>\n",
       "    .dataframe tbody tr th:only-of-type {\n",
       "        vertical-align: middle;\n",
       "    }\n",
       "\n",
       "    .dataframe tbody tr th {\n",
       "        vertical-align: top;\n",
       "    }\n",
       "\n",
       "    .dataframe thead th {\n",
       "        text-align: right;\n",
       "    }\n",
       "</style>\n",
       "<table border=\"1\" class=\"dataframe\">\n",
       "  <thead>\n",
       "    <tr style=\"text-align: right;\">\n",
       "      <th></th>\n",
       "      <th>Sticker | BnTeT | Boston 2018</th>\n",
       "      <th>StatTrak™ Desert Eagle | Golden Koi (Minimal Wear)</th>\n",
       "      <th>Sticker | BIG (Foil) | Boston 2018</th>\n",
       "      <th>P250 | See Ya Later (Well-Worn)</th>\n",
       "      <th>★ StatTrak™ Talon Knife | Marble Fade (Minimal Wear)</th>\n",
       "      <th>Sealed Graffiti | Recoil MP9 (Tiger Orange)</th>\n",
       "      <th>Sticker | MAJ3R (Gold) | Boston 2018</th>\n",
       "      <th>StatTrak™ AK-47 | Asiimov (Factory New)</th>\n",
       "      <th>Souvenir Galil AR | VariCamo (Battle-Scarred)</th>\n",
       "      <th>Sticker | mir (Gold) | London 2018</th>\n",
       "      <th>...</th>\n",
       "      <th>P90 | Shapewood (Minimal Wear)</th>\n",
       "      <th>MP9 | Hydra (Factory New)</th>\n",
       "      <th>Sealed Graffiti | Recoil PP-Bizon (Desert Amber)</th>\n",
       "      <th>★ Bowie Knife | Doppler (Factory New)</th>\n",
       "      <th>★ StatTrak™ Huntsman Knife | Ultraviolet (Minimal Wear)</th>\n",
       "      <th>★ Bayonet | Scorched (Well-Worn)</th>\n",
       "      <th>Souvenir UMP-45 | Facility Dark (Battle-Scarred)</th>\n",
       "      <th>★ StatTrak™ Gut Knife | Safari Mesh (Well-Worn)</th>\n",
       "      <th>StatTrak™ CZ75-Auto | Vendetta (Factory New)</th>\n",
       "      <th>SG 553 | Triarch (Factory New)</th>\n",
       "    </tr>\n",
       "    <tr>\n",
       "      <th>date</th>\n",
       "      <th></th>\n",
       "      <th></th>\n",
       "      <th></th>\n",
       "      <th></th>\n",
       "      <th></th>\n",
       "      <th></th>\n",
       "      <th></th>\n",
       "      <th></th>\n",
       "      <th></th>\n",
       "      <th></th>\n",
       "      <th></th>\n",
       "      <th></th>\n",
       "      <th></th>\n",
       "      <th></th>\n",
       "      <th></th>\n",
       "      <th></th>\n",
       "      <th></th>\n",
       "      <th></th>\n",
       "      <th></th>\n",
       "      <th></th>\n",
       "      <th></th>\n",
       "    </tr>\n",
       "  </thead>\n",
       "  <tbody>\n",
       "    <tr>\n",
       "      <th>2012-07-01</th>\n",
       "      <td>NaN</td>\n",
       "      <td>NaN</td>\n",
       "      <td>NaN</td>\n",
       "      <td>NaN</td>\n",
       "      <td>NaN</td>\n",
       "      <td>NaN</td>\n",
       "      <td>NaN</td>\n",
       "      <td>NaN</td>\n",
       "      <td>NaN</td>\n",
       "      <td>NaN</td>\n",
       "      <td>...</td>\n",
       "      <td>NaN</td>\n",
       "      <td>NaN</td>\n",
       "      <td>NaN</td>\n",
       "      <td>NaN</td>\n",
       "      <td>NaN</td>\n",
       "      <td>NaN</td>\n",
       "      <td>NaN</td>\n",
       "      <td>NaN</td>\n",
       "      <td>NaN</td>\n",
       "      <td>NaN</td>\n",
       "    </tr>\n",
       "    <tr>\n",
       "      <th>2012-07-02</th>\n",
       "      <td>NaN</td>\n",
       "      <td>NaN</td>\n",
       "      <td>NaN</td>\n",
       "      <td>NaN</td>\n",
       "      <td>NaN</td>\n",
       "      <td>NaN</td>\n",
       "      <td>NaN</td>\n",
       "      <td>NaN</td>\n",
       "      <td>NaN</td>\n",
       "      <td>NaN</td>\n",
       "      <td>...</td>\n",
       "      <td>NaN</td>\n",
       "      <td>NaN</td>\n",
       "      <td>NaN</td>\n",
       "      <td>NaN</td>\n",
       "      <td>NaN</td>\n",
       "      <td>NaN</td>\n",
       "      <td>NaN</td>\n",
       "      <td>NaN</td>\n",
       "      <td>NaN</td>\n",
       "      <td>NaN</td>\n",
       "    </tr>\n",
       "    <tr>\n",
       "      <th>2012-07-03</th>\n",
       "      <td>NaN</td>\n",
       "      <td>NaN</td>\n",
       "      <td>NaN</td>\n",
       "      <td>NaN</td>\n",
       "      <td>NaN</td>\n",
       "      <td>NaN</td>\n",
       "      <td>NaN</td>\n",
       "      <td>NaN</td>\n",
       "      <td>NaN</td>\n",
       "      <td>NaN</td>\n",
       "      <td>...</td>\n",
       "      <td>NaN</td>\n",
       "      <td>NaN</td>\n",
       "      <td>NaN</td>\n",
       "      <td>NaN</td>\n",
       "      <td>NaN</td>\n",
       "      <td>NaN</td>\n",
       "      <td>NaN</td>\n",
       "      <td>NaN</td>\n",
       "      <td>NaN</td>\n",
       "      <td>NaN</td>\n",
       "    </tr>\n",
       "    <tr>\n",
       "      <th>2012-07-04</th>\n",
       "      <td>NaN</td>\n",
       "      <td>NaN</td>\n",
       "      <td>NaN</td>\n",
       "      <td>NaN</td>\n",
       "      <td>NaN</td>\n",
       "      <td>NaN</td>\n",
       "      <td>NaN</td>\n",
       "      <td>NaN</td>\n",
       "      <td>NaN</td>\n",
       "      <td>NaN</td>\n",
       "      <td>...</td>\n",
       "      <td>NaN</td>\n",
       "      <td>NaN</td>\n",
       "      <td>NaN</td>\n",
       "      <td>NaN</td>\n",
       "      <td>NaN</td>\n",
       "      <td>NaN</td>\n",
       "      <td>NaN</td>\n",
       "      <td>NaN</td>\n",
       "      <td>NaN</td>\n",
       "      <td>NaN</td>\n",
       "    </tr>\n",
       "    <tr>\n",
       "      <th>2012-07-05</th>\n",
       "      <td>NaN</td>\n",
       "      <td>NaN</td>\n",
       "      <td>NaN</td>\n",
       "      <td>NaN</td>\n",
       "      <td>NaN</td>\n",
       "      <td>NaN</td>\n",
       "      <td>NaN</td>\n",
       "      <td>NaN</td>\n",
       "      <td>NaN</td>\n",
       "      <td>NaN</td>\n",
       "      <td>...</td>\n",
       "      <td>NaN</td>\n",
       "      <td>NaN</td>\n",
       "      <td>NaN</td>\n",
       "      <td>NaN</td>\n",
       "      <td>NaN</td>\n",
       "      <td>NaN</td>\n",
       "      <td>NaN</td>\n",
       "      <td>NaN</td>\n",
       "      <td>NaN</td>\n",
       "      <td>NaN</td>\n",
       "    </tr>\n",
       "  </tbody>\n",
       "</table>\n",
       "<p>5 rows × 16292 columns</p>\n",
       "</div>"
      ],
      "text/plain": [
       "            Sticker | BnTeT | Boston 2018  \\\n",
       "date                                        \n",
       "2012-07-01                            NaN   \n",
       "2012-07-02                            NaN   \n",
       "2012-07-03                            NaN   \n",
       "2012-07-04                            NaN   \n",
       "2012-07-05                            NaN   \n",
       "\n",
       "            StatTrak™ Desert Eagle | Golden Koi (Minimal Wear)  \\\n",
       "date                                                             \n",
       "2012-07-01                                                NaN    \n",
       "2012-07-02                                                NaN    \n",
       "2012-07-03                                                NaN    \n",
       "2012-07-04                                                NaN    \n",
       "2012-07-05                                                NaN    \n",
       "\n",
       "            Sticker | BIG (Foil) | Boston 2018  \\\n",
       "date                                             \n",
       "2012-07-01                                 NaN   \n",
       "2012-07-02                                 NaN   \n",
       "2012-07-03                                 NaN   \n",
       "2012-07-04                                 NaN   \n",
       "2012-07-05                                 NaN   \n",
       "\n",
       "            P250 | See Ya Later (Well-Worn)  \\\n",
       "date                                          \n",
       "2012-07-01                              NaN   \n",
       "2012-07-02                              NaN   \n",
       "2012-07-03                              NaN   \n",
       "2012-07-04                              NaN   \n",
       "2012-07-05                              NaN   \n",
       "\n",
       "            ★ StatTrak™ Talon Knife | Marble Fade (Minimal Wear)  \\\n",
       "date                                                               \n",
       "2012-07-01                                                NaN      \n",
       "2012-07-02                                                NaN      \n",
       "2012-07-03                                                NaN      \n",
       "2012-07-04                                                NaN      \n",
       "2012-07-05                                                NaN      \n",
       "\n",
       "            Sealed Graffiti | Recoil MP9 (Tiger Orange)  \\\n",
       "date                                                      \n",
       "2012-07-01                                          NaN   \n",
       "2012-07-02                                          NaN   \n",
       "2012-07-03                                          NaN   \n",
       "2012-07-04                                          NaN   \n",
       "2012-07-05                                          NaN   \n",
       "\n",
       "            Sticker | MAJ3R (Gold) | Boston 2018  \\\n",
       "date                                               \n",
       "2012-07-01                                   NaN   \n",
       "2012-07-02                                   NaN   \n",
       "2012-07-03                                   NaN   \n",
       "2012-07-04                                   NaN   \n",
       "2012-07-05                                   NaN   \n",
       "\n",
       "            StatTrak™ AK-47 | Asiimov (Factory New)  \\\n",
       "date                                                  \n",
       "2012-07-01                                      NaN   \n",
       "2012-07-02                                      NaN   \n",
       "2012-07-03                                      NaN   \n",
       "2012-07-04                                      NaN   \n",
       "2012-07-05                                      NaN   \n",
       "\n",
       "            Souvenir Galil AR | VariCamo (Battle-Scarred)  \\\n",
       "date                                                        \n",
       "2012-07-01                                            NaN   \n",
       "2012-07-02                                            NaN   \n",
       "2012-07-03                                            NaN   \n",
       "2012-07-04                                            NaN   \n",
       "2012-07-05                                            NaN   \n",
       "\n",
       "            Sticker | mir (Gold) | London 2018  ...  \\\n",
       "date                                            ...   \n",
       "2012-07-01                                 NaN  ...   \n",
       "2012-07-02                                 NaN  ...   \n",
       "2012-07-03                                 NaN  ...   \n",
       "2012-07-04                                 NaN  ...   \n",
       "2012-07-05                                 NaN  ...   \n",
       "\n",
       "            P90 | Shapewood (Minimal Wear)  MP9 | Hydra (Factory New)  \\\n",
       "date                                                                    \n",
       "2012-07-01                             NaN                        NaN   \n",
       "2012-07-02                             NaN                        NaN   \n",
       "2012-07-03                             NaN                        NaN   \n",
       "2012-07-04                             NaN                        NaN   \n",
       "2012-07-05                             NaN                        NaN   \n",
       "\n",
       "            Sealed Graffiti | Recoil PP-Bizon (Desert Amber)  \\\n",
       "date                                                           \n",
       "2012-07-01                                               NaN   \n",
       "2012-07-02                                               NaN   \n",
       "2012-07-03                                               NaN   \n",
       "2012-07-04                                               NaN   \n",
       "2012-07-05                                               NaN   \n",
       "\n",
       "            ★ Bowie Knife | Doppler (Factory New)  \\\n",
       "date                                                \n",
       "2012-07-01                                    NaN   \n",
       "2012-07-02                                    NaN   \n",
       "2012-07-03                                    NaN   \n",
       "2012-07-04                                    NaN   \n",
       "2012-07-05                                    NaN   \n",
       "\n",
       "            ★ StatTrak™ Huntsman Knife | Ultraviolet (Minimal Wear)  \\\n",
       "date                                                                  \n",
       "2012-07-01                                                NaN         \n",
       "2012-07-02                                                NaN         \n",
       "2012-07-03                                                NaN         \n",
       "2012-07-04                                                NaN         \n",
       "2012-07-05                                                NaN         \n",
       "\n",
       "            ★ Bayonet | Scorched (Well-Worn)  \\\n",
       "date                                           \n",
       "2012-07-01                               NaN   \n",
       "2012-07-02                               NaN   \n",
       "2012-07-03                               NaN   \n",
       "2012-07-04                               NaN   \n",
       "2012-07-05                               NaN   \n",
       "\n",
       "            Souvenir UMP-45 | Facility Dark (Battle-Scarred)  \\\n",
       "date                                                           \n",
       "2012-07-01                                               NaN   \n",
       "2012-07-02                                               NaN   \n",
       "2012-07-03                                               NaN   \n",
       "2012-07-04                                               NaN   \n",
       "2012-07-05                                               NaN   \n",
       "\n",
       "            ★ StatTrak™ Gut Knife | Safari Mesh (Well-Worn)  \\\n",
       "date                                                          \n",
       "2012-07-01                                              NaN   \n",
       "2012-07-02                                              NaN   \n",
       "2012-07-03                                              NaN   \n",
       "2012-07-04                                              NaN   \n",
       "2012-07-05                                              NaN   \n",
       "\n",
       "            StatTrak™ CZ75-Auto | Vendetta (Factory New)  \\\n",
       "date                                                       \n",
       "2012-07-01                                           NaN   \n",
       "2012-07-02                                           NaN   \n",
       "2012-07-03                                           NaN   \n",
       "2012-07-04                                           NaN   \n",
       "2012-07-05                                           NaN   \n",
       "\n",
       "            SG 553 | Triarch (Factory New)  \n",
       "date                                        \n",
       "2012-07-01                             NaN  \n",
       "2012-07-02                             NaN  \n",
       "2012-07-03                             NaN  \n",
       "2012-07-04                             NaN  \n",
       "2012-07-05                             NaN  \n",
       "\n",
       "[5 rows x 16292 columns]"
      ]
     },
     "execution_count": 9,
     "metadata": {},
     "output_type": "execute_result"
    }
   ],
   "source": [
    "df_delta.head()"
   ]
  },
  {
   "cell_type": "code",
   "execution_count": 10,
   "id": "5bae9615",
   "metadata": {},
   "outputs": [],
   "source": [
    "all_skins = list(df_price.columns)"
   ]
  },
  {
   "cell_type": "code",
   "execution_count": 11,
   "id": "294e3593",
   "metadata": {},
   "outputs": [],
   "source": [
    "skins_prefix_set = set([string.split('|')[0] for string in all_skins])\n",
    "skins_prefix_set = set(string.rstrip().lstrip() for string in skins_prefix_set)"
   ]
  },
  {
   "cell_type": "code",
   "execution_count": 12,
   "id": "2d717a9c",
   "metadata": {},
   "outputs": [],
   "source": [
    "prefix_remaining = list(skins_prefix_set).copy()"
   ]
  },
  {
   "cell_type": "code",
   "execution_count": 13,
   "id": "7cdc5c1b",
   "metadata": {},
   "outputs": [],
   "source": [
    "def test_types(types, skins_prefix_set = skins_prefix_set):\n",
    "    ok = True\n",
    "    for weapon in types:\n",
    "        if weapon not in skins_prefix_set:\n",
    "            print(weapon + 'not in set.')\n",
    "            ok = False\n",
    "    \n",
    "    return ok"
   ]
  },
  {
   "cell_type": "code",
   "execution_count": 14,
   "id": "165e0f67",
   "metadata": {},
   "outputs": [
    {
     "name": "stdout",
     "output_type": "stream",
     "text": [
      "types_pistols: True\n",
      "types_heavys: True\n",
      "types_smgs: True\n",
      "types_ars: True\n",
      "types_snipers: True\n",
      "types_weapons: True\n"
     ]
    }
   ],
   "source": [
    "types_pistols = ['Glock-18','P2000', 'USP-S','P250', 'Dual Berettas', 'Tec-9' ,'Five-SeveN', \n",
    "                 'CZ75-Auto', 'Desert Eagle', 'R8 Revolver']\n",
    "types_heavys =['Nova','XM1014','MAG-7','Sawed-Off','M249', 'Negev']\n",
    "types_smgs = ['MAC-10', 'MP9', 'UMP-45', 'MP7', 'PP-Bizon', 'P90' , 'MP5-SD']\n",
    "types_ars = ['Galil AR' , 'FAMAS', 'AK-47', 'M4A4', 'M4A1-S', 'SG 553', 'AUG']\n",
    "types_snipers = ['SSG 08', 'AWP', 'G3SG1', 'SCAR-20']\n",
    "types_weapons = types_pistols + types_heavys + types_smgs + types_ars + types_snipers\n",
    "\n",
    "print('types_pistols: ' + str(test_types(types_pistols)))\n",
    "print('types_heavys: ' + str(test_types(types_heavys)))\n",
    "print('types_smgs: ' + str(test_types(types_smgs)))\n",
    "print('types_ars: ' + str(test_types(types_ars)))\n",
    "print('types_snipers: ' + str(test_types(types_snipers)))\n",
    "print('types_weapons: ' + str(test_types(types_weapons)))"
   ]
  },
  {
   "cell_type": "code",
   "execution_count": 15,
   "id": "52f81e1a",
   "metadata": {},
   "outputs": [],
   "source": [
    "def update_prefix_remaining(cataloged_type, prefix_remaining = prefix_remaining):\n",
    "    for prefix in cataloged_type:\n",
    "        try:\n",
    "            prefix_remaining.remove(prefix)\n",
    "        except:\n",
    "            continue"
   ]
  },
  {
   "cell_type": "code",
   "execution_count": 16,
   "id": "0dfebb05",
   "metadata": {},
   "outputs": [],
   "source": [
    "update_prefix_remaining(types_weapons)"
   ]
  },
  {
   "cell_type": "code",
   "execution_count": 17,
   "id": "8246a034",
   "metadata": {},
   "outputs": [
    {
     "data": {
      "text/plain": [
       "True"
      ]
     },
     "execution_count": 17,
     "metadata": {},
     "output_type": "execute_result"
    }
   ],
   "source": [
    "types_statTrak = [prefix for prefix in prefix_remaining if 'StatTrak™' in prefix]\n",
    "test_types(types_statTrak)"
   ]
  },
  {
   "cell_type": "code",
   "execution_count": 18,
   "id": "a4dc03ab",
   "metadata": {},
   "outputs": [],
   "source": [
    "update_prefix_remaining(types_statTrak)"
   ]
  },
  {
   "cell_type": "code",
   "execution_count": 19,
   "id": "3dbddb44",
   "metadata": {},
   "outputs": [
    {
     "data": {
      "text/plain": [
       "True"
      ]
     },
     "execution_count": 19,
     "metadata": {},
     "output_type": "execute_result"
    }
   ],
   "source": [
    "types_pins = [prefix for prefix in prefix_remaining if 'Pin' in prefix]\n",
    "test_types(types_pins)"
   ]
  },
  {
   "cell_type": "code",
   "execution_count": 20,
   "id": "e43bdd43",
   "metadata": {},
   "outputs": [],
   "source": [
    "update_prefix_remaining(types_pins)"
   ]
  },
  {
   "cell_type": "code",
   "execution_count": 21,
   "id": "c44991e3",
   "metadata": {},
   "outputs": [
    {
     "data": {
      "text/plain": [
       "True"
      ]
     },
     "execution_count": 21,
     "metadata": {},
     "output_type": "execute_result"
    }
   ],
   "source": [
    "types_knifes = [prefix for prefix in prefix_remaining if 'Knife' in prefix]\n",
    "types_knifes = types_knifes + ['★ Bayonet','★ M9 Bayonet','★ Karambit','★ Shadow Daggers']\n",
    "test_types(types_knifes)"
   ]
  },
  {
   "cell_type": "code",
   "execution_count": 22,
   "id": "454ace3e",
   "metadata": {},
   "outputs": [],
   "source": [
    "update_prefix_remaining(types_knifes)"
   ]
  },
  {
   "cell_type": "code",
   "execution_count": 23,
   "id": "479c1483",
   "metadata": {},
   "outputs": [
    {
     "data": {
      "text/plain": [
       "True"
      ]
     },
     "execution_count": 23,
     "metadata": {},
     "output_type": "execute_result"
    }
   ],
   "source": [
    "types_gloves = [prefix for prefix in prefix_remaining if 'Gloves' in prefix]\n",
    "types_gloves = types_gloves + ['★ Hand Wraps']\n",
    "test_types(types_gloves)"
   ]
  },
  {
   "cell_type": "code",
   "execution_count": 24,
   "id": "ff7d4270",
   "metadata": {},
   "outputs": [],
   "source": [
    "update_prefix_remaining(types_gloves)"
   ]
  },
  {
   "cell_type": "code",
   "execution_count": 25,
   "id": "96298afa",
   "metadata": {},
   "outputs": [
    {
     "data": {
      "text/plain": [
       "True"
      ]
     },
     "execution_count": 25,
     "metadata": {},
     "output_type": "execute_result"
    }
   ],
   "source": [
    "types_keys = [prefix for prefix in prefix_remaining if 'Case Key' in prefix]\n",
    "types_keys = types_keys +['CS:GO Capsule Key', 'eSports Key']\n",
    "test_types(types_keys)"
   ]
  },
  {
   "cell_type": "code",
   "execution_count": 26,
   "id": "f14c6803",
   "metadata": {},
   "outputs": [],
   "source": [
    "update_prefix_remaining(types_keys)"
   ]
  },
  {
   "cell_type": "code",
   "execution_count": 27,
   "id": "ac5fc32d",
   "metadata": {},
   "outputs": [
    {
     "data": {
      "text/plain": [
       "True"
      ]
     },
     "execution_count": 27,
     "metadata": {},
     "output_type": "execute_result"
    }
   ],
   "source": [
    "types_case = [prefix for prefix in prefix_remaining if 'Case' in prefix]\n",
    "test_types(types_case)"
   ]
  },
  {
   "cell_type": "code",
   "execution_count": 28,
   "id": "d2aa4b5b",
   "metadata": {},
   "outputs": [],
   "source": [
    "update_prefix_remaining(types_case)"
   ]
  },
  {
   "cell_type": "code",
   "execution_count": 29,
   "id": "c3890aa9",
   "metadata": {},
   "outputs": [
    {
     "data": {
      "text/plain": [
       "True"
      ]
     },
     "execution_count": 29,
     "metadata": {},
     "output_type": "execute_result"
    }
   ],
   "source": [
    "types_viewer_pass = [prefix for prefix in prefix_remaining if 'Viewer Pass' in prefix]\n",
    "test_types(types_viewer_pass)"
   ]
  },
  {
   "cell_type": "code",
   "execution_count": 30,
   "id": "9baaf84b",
   "metadata": {},
   "outputs": [],
   "source": [
    "update_prefix_remaining(types_viewer_pass)"
   ]
  },
  {
   "cell_type": "code",
   "execution_count": 31,
   "id": "eb2c12af",
   "metadata": {},
   "outputs": [
    {
     "data": {
      "text/plain": [
       "True"
      ]
     },
     "execution_count": 31,
     "metadata": {},
     "output_type": "execute_result"
    }
   ],
   "source": [
    "types_souvenir_packages = [prefix for prefix in prefix_remaining if 'Souvenir Package' in prefix]\n",
    "test_types(types_souvenir_packages)"
   ]
  },
  {
   "cell_type": "code",
   "execution_count": 32,
   "id": "8742c5f3",
   "metadata": {},
   "outputs": [],
   "source": [
    "update_prefix_remaining(types_souvenir_packages)"
   ]
  },
  {
   "cell_type": "code",
   "execution_count": 33,
   "id": "c92403ca",
   "metadata": {},
   "outputs": [
    {
     "data": {
      "text/plain": [
       "True"
      ]
     },
     "execution_count": 33,
     "metadata": {},
     "output_type": "execute_result"
    }
   ],
   "source": [
    "date_range =[*range(2012,2022)]\n",
    "date_range = [str(year) for year in date_range]\n",
    "types_all_major_capsules = [prefix for prefix in prefix_remaining for year in date_range if year in prefix]\n",
    "types_all_major_capsules= types_all_major_capsules +['Autograph Capsule']\n",
    "test_types(types_all_major_capsules)"
   ]
  },
  {
   "cell_type": "code",
   "execution_count": 34,
   "id": "15d175b6",
   "metadata": {},
   "outputs": [],
   "source": [
    "update_prefix_remaining(types_all_major_capsules)"
   ]
  },
  {
   "cell_type": "code",
   "execution_count": 35,
   "id": "dddf36f6",
   "metadata": {},
   "outputs": [
    {
     "data": {
      "text/plain": [
       "True"
      ]
     },
     "execution_count": 35,
     "metadata": {},
     "output_type": "execute_result"
    }
   ],
   "source": [
    "types_souvenir_skins = [prefix for prefix in prefix_remaining if 'Souvenir' in prefix]\n",
    "test_types(types_souvenir_skins)"
   ]
  },
  {
   "cell_type": "code",
   "execution_count": 36,
   "id": "617c045c",
   "metadata": {},
   "outputs": [],
   "source": [
    "update_prefix_remaining(types_souvenir_skins)"
   ]
  },
  {
   "cell_type": "code",
   "execution_count": 39,
   "id": "e0989713",
   "metadata": {},
   "outputs": [
    {
     "data": {
      "text/plain": [
       "True"
      ]
     },
     "execution_count": 39,
     "metadata": {},
     "output_type": "execute_result"
    }
   ],
   "source": [
    "types_sticker_capsules = [prefix for prefix in prefix_remaining if 'Capsule' in prefix]\n",
    "test_types(types_sticker_capsules)"
   ]
  },
  {
   "cell_type": "code",
   "execution_count": 41,
   "id": "edb82ac4",
   "metadata": {},
   "outputs": [],
   "source": [
    "update_prefix_remaining(types_sticker_capsules)"
   ]
  },
  {
   "cell_type": "code",
   "execution_count": 42,
   "id": "b72987f3",
   "metadata": {},
   "outputs": [
    {
     "data": {
      "text/plain": [
       "True"
      ]
     },
     "execution_count": 42,
     "metadata": {},
     "output_type": "execute_result"
    }
   ],
   "source": [
    "types_graffity = [prefix for prefix in prefix_remaining if 'Graffiti Box' in prefix]\n",
    "types_graffity = types_graffity +['Sealed Graffiti']\n",
    "test_types(types_graffity)"
   ]
  },
  {
   "cell_type": "code",
   "execution_count": 43,
   "id": "cc7fc1d3",
   "metadata": {},
   "outputs": [],
   "source": [
    "update_prefix_remaining(types_graffity)"
   ]
  },
  {
   "cell_type": "code",
   "execution_count": 46,
   "id": "6aa1e3f2",
   "metadata": {},
   "outputs": [
    {
     "data": {
      "text/plain": [
       "True"
      ]
     },
     "execution_count": 46,
     "metadata": {},
     "output_type": "execute_result"
    }
   ],
   "source": [
    "types_patches = [prefix for prefix in prefix_remaining if 'Patch' in prefix]\n",
    "test_types(types_patches)"
   ]
  },
  {
   "cell_type": "code",
   "execution_count": 47,
   "id": "d34227fe",
   "metadata": {},
   "outputs": [],
   "source": [
    "update_prefix_remaining(types_patches)"
   ]
  },
  {
   "cell_type": "code",
   "execution_count": 48,
   "id": "b5f30f22",
   "metadata": {},
   "outputs": [
    {
     "data": {
      "text/plain": [
       "True"
      ]
     },
     "execution_count": 48,
     "metadata": {},
     "output_type": "execute_result"
    }
   ],
   "source": [
    "types_stickers = ['Sticker']\n",
    "test_types(types_stickers)"
   ]
  },
  {
   "cell_type": "code",
   "execution_count": 49,
   "id": "3ab60fc0",
   "metadata": {},
   "outputs": [],
   "source": [
    "update_prefix_remaining(types_stickers)"
   ]
  },
  {
   "cell_type": "code",
   "execution_count": 53,
   "id": "efac1512",
   "metadata": {},
   "outputs": [
    {
     "data": {
      "text/plain": [
       "True"
      ]
     },
     "execution_count": 53,
     "metadata": {},
     "output_type": "execute_result"
    }
   ],
   "source": [
    "types_operation_pass = [prefix for prefix in prefix_remaining if 'Pass' in prefix]\n",
    "test_types(types_operation_pass)"
   ]
  },
  {
   "cell_type": "code",
   "execution_count": 55,
   "id": "4d294d2d",
   "metadata": {},
   "outputs": [],
   "source": [
    "update_prefix_remaining(types_operation_pass)"
   ]
  },
  {
   "cell_type": "code",
   "execution_count": 65,
   "id": "43f83553",
   "metadata": {},
   "outputs": [
    {
     "data": {
      "text/plain": [
       "True"
      ]
     },
     "execution_count": 65,
     "metadata": {},
     "output_type": "execute_result"
    }
   ],
   "source": [
    "types_junk =[prefix for prefix in prefix_remaining for aux in ['Music Kit','Name Tag','Pallet' ,'Parcel', 'Package'] if aux in prefix]\n",
    "test_types(types_junk)"
   ]
  },
  {
   "cell_type": "code",
   "execution_count": 68,
   "id": "6a2f8845",
   "metadata": {},
   "outputs": [
    {
     "data": {
      "text/plain": [
       "True"
      ]
     },
     "execution_count": 68,
     "metadata": {},
     "output_type": "execute_result"
    }
   ],
   "source": [
    "types_agents = prefix_remaining.copy()\n",
    "test_types(types_agents)"
   ]
  },
  {
   "cell_type": "code",
   "execution_count": 69,
   "id": "1bf745a5",
   "metadata": {},
   "outputs": [],
   "source": [
    "update_prefix_remaining(types_agents)"
   ]
  },
  {
   "cell_type": "code",
   "execution_count": 72,
   "id": "ad358eeb",
   "metadata": {},
   "outputs": [],
   "source": [
    "all_types = ['types_pistols', 'types_heavys' , 'types_smgs', 'types_ars', 'types_snipers', 'types_weapons',\n",
    "             'types_statTrak', 'types_pins', 'types_knifes' , 'types_gloves', 'types_keys', 'types_case', \n",
    "             'types_viewer_pass', 'types_souvenir_packages','types_souvenir_skins' ,'types_all_major_capsules', \n",
    "             'types_sticker_capsules','types_stickers', 'types_graffity' ,'types_patches' , 'types_operation_pass',\n",
    "             'types_junk']"
   ]
  },
  {
   "cell_type": "code",
   "execution_count": 73,
   "id": "d1c608a7",
   "metadata": {},
   "outputs": [
    {
     "data": {
      "text/plain": [
       "22"
      ]
     },
     "execution_count": 73,
     "metadata": {},
     "output_type": "execute_result"
    }
   ],
   "source": [
    "len(all_types)"
   ]
  },
  {
   "cell_type": "code",
   "execution_count": 81,
   "id": "51e07308",
   "metadata": {},
   "outputs": [],
   "source": [
    "weapons_columns = [skin for skin in all_skins for prefix in ['AK-47'] if prefix == skin.split('|')[0].lstrip().rstrip()]"
   ]
  },
  {
   "cell_type": "code",
   "execution_count": 87,
   "id": "5325e8cf",
   "metadata": {},
   "outputs": [],
   "source": [
    "df_ak47 = df_overall_data[['itemName','priceAvg','volAvg']][df_overall_data['itemName'].isin(weapons_columns)]"
   ]
  },
  {
   "cell_type": "code",
   "execution_count": 88,
   "id": "0aee5f80",
   "metadata": {},
   "outputs": [
    {
     "data": {
      "text/html": [
       "<div>\n",
       "<style scoped>\n",
       "    .dataframe tbody tr th:only-of-type {\n",
       "        vertical-align: middle;\n",
       "    }\n",
       "\n",
       "    .dataframe tbody tr th {\n",
       "        vertical-align: top;\n",
       "    }\n",
       "\n",
       "    .dataframe thead th {\n",
       "        text-align: right;\n",
       "    }\n",
       "</style>\n",
       "<table border=\"1\" class=\"dataframe\">\n",
       "  <thead>\n",
       "    <tr style=\"text-align: right;\">\n",
       "      <th></th>\n",
       "      <th>itemName</th>\n",
       "      <th>priceAvg</th>\n",
       "      <th>volAvg</th>\n",
       "    </tr>\n",
       "  </thead>\n",
       "  <tbody>\n",
       "    <tr>\n",
       "      <th>68</th>\n",
       "      <td>AK-47 | Frontside Misty (Factory New)</td>\n",
       "      <td>182.787326</td>\n",
       "      <td>17.617408</td>\n",
       "    </tr>\n",
       "    <tr>\n",
       "      <th>159</th>\n",
       "      <td>AK-47 | Safari Mesh (Minimal Wear)</td>\n",
       "      <td>2.620029</td>\n",
       "      <td>762.272992</td>\n",
       "    </tr>\n",
       "    <tr>\n",
       "      <th>175</th>\n",
       "      <td>AK-47 | Baroque Purple (Minimal Wear)</td>\n",
       "      <td>17.101465</td>\n",
       "      <td>228.359649</td>\n",
       "    </tr>\n",
       "    <tr>\n",
       "      <th>184</th>\n",
       "      <td>AK-47 | Uncharted (Well-Worn)</td>\n",
       "      <td>5.679550</td>\n",
       "      <td>185.152625</td>\n",
       "    </tr>\n",
       "    <tr>\n",
       "      <th>208</th>\n",
       "      <td>AK-47 | Neon Rider (Well-Worn)</td>\n",
       "      <td>197.441311</td>\n",
       "      <td>6.992278</td>\n",
       "    </tr>\n",
       "    <tr>\n",
       "      <th>...</th>\n",
       "      <td>...</td>\n",
       "      <td>...</td>\n",
       "      <td>...</td>\n",
       "    </tr>\n",
       "    <tr>\n",
       "      <th>15925</th>\n",
       "      <td>AK-47 | Point Disarray (Field-Tested)</td>\n",
       "      <td>76.600567</td>\n",
       "      <td>229.659701</td>\n",
       "    </tr>\n",
       "    <tr>\n",
       "      <th>15941</th>\n",
       "      <td>AK-47 | Predator (Well-Worn)</td>\n",
       "      <td>13.218936</td>\n",
       "      <td>64.061053</td>\n",
       "    </tr>\n",
       "    <tr>\n",
       "      <th>16062</th>\n",
       "      <td>AK-47 | Asiimov (Field-Tested)</td>\n",
       "      <td>193.807639</td>\n",
       "      <td>174.575791</td>\n",
       "    </tr>\n",
       "    <tr>\n",
       "      <th>16145</th>\n",
       "      <td>AK-47 | Bloodsport (Field-Tested)</td>\n",
       "      <td>229.447991</td>\n",
       "      <td>72.789270</td>\n",
       "    </tr>\n",
       "    <tr>\n",
       "      <th>16268</th>\n",
       "      <td>AK-47 | Black Laminate (Factory New)</td>\n",
       "      <td>479.923179</td>\n",
       "      <td>1.375000</td>\n",
       "    </tr>\n",
       "  </tbody>\n",
       "</table>\n",
       "<p>174 rows × 3 columns</p>\n",
       "</div>"
      ],
      "text/plain": [
       "                                    itemName    priceAvg      volAvg\n",
       "68     AK-47 | Frontside Misty (Factory New)  182.787326   17.617408\n",
       "159       AK-47 | Safari Mesh (Minimal Wear)    2.620029  762.272992\n",
       "175    AK-47 | Baroque Purple (Minimal Wear)   17.101465  228.359649\n",
       "184            AK-47 | Uncharted (Well-Worn)    5.679550  185.152625\n",
       "208           AK-47 | Neon Rider (Well-Worn)  197.441311    6.992278\n",
       "...                                      ...         ...         ...\n",
       "15925  AK-47 | Point Disarray (Field-Tested)   76.600567  229.659701\n",
       "15941           AK-47 | Predator (Well-Worn)   13.218936   64.061053\n",
       "16062         AK-47 | Asiimov (Field-Tested)  193.807639  174.575791\n",
       "16145      AK-47 | Bloodsport (Field-Tested)  229.447991   72.789270\n",
       "16268   AK-47 | Black Laminate (Factory New)  479.923179    1.375000\n",
       "\n",
       "[174 rows x 3 columns]"
      ]
     },
     "execution_count": 88,
     "metadata": {},
     "output_type": "execute_result"
    }
   ],
   "source": [
    "df_ak47"
   ]
  },
  {
   "cell_type": "code",
   "execution_count": 89,
   "id": "ee0f8599",
   "metadata": {},
   "outputs": [],
   "source": [
    "import plotly.express as px"
   ]
  },
  {
   "cell_type": "code",
   "execution_count": 106,
   "id": "ca288a27",
   "metadata": {},
   "outputs": [],
   "source": [
    "num_bins = int(df_ak47['priceAvg'].max() - df_ak47['priceAvg'].min() )"
   ]
  },
  {
   "cell_type": "code",
   "execution_count": 113,
   "id": "bf8f0893",
   "metadata": {},
   "outputs": [
    {
     "data": {
      "text/plain": [
       "51"
      ]
     },
     "execution_count": 113,
     "metadata": {},
     "output_type": "execute_result"
    }
   ],
   "source": [
    "df_ak47[df_ak47['priceAvg']< 10].size"
   ]
  },
  {
   "cell_type": "code",
   "execution_count": 115,
   "id": "704ee1ed",
   "metadata": {},
   "outputs": [
    {
     "data": {
      "application/vnd.plotly.v1+json": {
       "config": {
        "plotlyServerURL": "https://plot.ly"
       },
       "data": [
        {
         "alignmentgroup": "True",
         "bingroup": "x",
         "hovertemplate": "priceAvg=%{x}<br>count=%{y}<extra></extra>",
         "legendgroup": "",
         "marker": {
          "color": "#636efa"
         },
         "name": "",
         "nbinsx": 33,
         "offsetgroup": "",
         "orientation": "v",
         "showlegend": false,
         "type": "histogram",
         "x": [
          182.78732585943104,
          2.6200291468204475,
          17.101465115468542,
          5.679549961072331,
          197.4413111401414,
          63.36081252819124,
          209.17110175202154,
          51.314916982517516,
          194.8160828885631,
          678.805773556231,
          11.572918123256306,
          9.845824059250695,
          17.728937489058122,
          163.03676401391985,
          8.634427635432338,
          171.08589672216442,
          329.0898792899408,
          152.71787872154118,
          69.45229688096539,
          327.98430923690995,
          226.54121437503787,
          786.2445699226986,
          378.8909303240741,
          3.483827556206831,
          315.021352178152,
          50.49076359615807,
          52.942801428391,
          182.51486178489716,
          510.89693285661224,
          73.12013963328354,
          20.524765603893346,
          32.82587909875167,
          592.1401795189504,
          285.7840257291859,
          3910.6562291666664,
          60.24093039985053,
          10.817897796280395,
          191.90007734562252,
          934.1658866758241,
          820.1366651515152,
          20.207905948079503,
          631.9374535462728,
          108.50715365742973,
          3.3914866813785136,
          166.0181954242858,
          220.19752679174226,
          73.49700204230922,
          54.63059616150443,
          84.03180229037247,
          314.41673537196004,
          25.53071742158927,
          280.78791543700345,
          150.7078840274664,
          114.18684622622222,
          189.49848094553784,
          49.9992519629082,
          120.26708010412194,
          9.096773224807562,
          1.5462291402653408,
          20.811327115545147,
          16.645511079750186,
          50.4862152976499,
          242.35893752256766,
          88.05150047369693,
          23.970410171350796,
          43.10772125045729,
          5.0194101345205775,
          54.310960998554826,
          61.77486613745106,
          107.37441618423281,
          25.396598024058466,
          9.427228485698084,
          276.14523408043425,
          32.59558109448594,
          65.15045368835689,
          11.436169694067425,
          5.6765907190787726,
          20.472693084777237,
          85.40254567901233,
          17.180451753468223,
          1344.620164358108,
          1170.1943094128924,
          93.12569447658169,
          348.81077654206405,
          59.741413570127506,
          5.175011119332322,
          19.014851971728987,
          91.35045107677902,
          7.6545427542420414,
          7.050710560546591,
          49.732233372509604,
          196.77588769963165,
          84.70009472475394,
          91.92883189417573,
          122.13929879992182,
          419.25691280832933,
          679.9085127659574,
          155.59062230215827,
          70.17545352898249,
          123.46475939769617,
          63.866373690012686,
          147.5924753863345,
          292.62810059434486,
          113.66967149867172,
          10.642617948877886,
          53.19586104753521,
          52.78380307065181,
          72.24398970506172,
          66.10744538606623,
          1907.2929831460672,
          10.935130362615865,
          154.72188864379692,
          44.95025674910106,
          44.16693406718865,
          170.07815654749655,
          175.29066903782532,
          29.957706527580292,
          10.56745461705606,
          892.587851735706,
          273.2384901571902,
          57.646502695305436,
          78.01032033905035,
          8.44456438391259,
          65.38048033337301,
          10.12152146306354,
          210.05193764873871,
          2900.989381451613,
          621.4331008745879,
          22.06822171033446,
          63.017582637252275,
          166.24189352083607,
          94.6361948179144,
          510.15132821130527,
          177.50345066603984,
          67.55632003180412,
          515.6899069484937,
          73.97797682219118,
          240.66020893457292,
          277.730904540163,
          103.84645405001963,
          84.01141436961353,
          232.01083846902787,
          261.5494101405963,
          301.6294054902856,
          59.30721163366336,
          199.7428834561093,
          189.45849738781698,
          59.58132260012159,
          46.333762966779496,
          1.0865508900414118,
          2532.875504545454,
          148.39784693581737,
          107.960272867626,
          45.07958514507606,
          253.62736487176574,
          77.99634823500438,
          15.639383884461987,
          127.73065784927726,
          50.23508889862528,
          21.642788827316384,
          32.92119440543608,
          170.80903027199355,
          52.98310684865316,
          31.166520022239297,
          1.1708591792348169,
          71.25782234345328,
          97.02690333651556,
          139.65252994538224,
          141.52549722921913,
          76.60056708229025,
          13.21893639254386,
          193.80763909757255,
          229.44799056046006,
          479.92317943548386
         ],
         "xaxis": "x",
         "yaxis": "y"
        }
       ],
       "layout": {
        "barmode": "relative",
        "legend": {
         "tracegroupgap": 0
        },
        "margin": {
         "t": 60
        },
        "template": {
         "data": {
          "bar": [
           {
            "error_x": {
             "color": "#2a3f5f"
            },
            "error_y": {
             "color": "#2a3f5f"
            },
            "marker": {
             "line": {
              "color": "#E5ECF6",
              "width": 0.5
             }
            },
            "type": "bar"
           }
          ],
          "barpolar": [
           {
            "marker": {
             "line": {
              "color": "#E5ECF6",
              "width": 0.5
             }
            },
            "type": "barpolar"
           }
          ],
          "carpet": [
           {
            "aaxis": {
             "endlinecolor": "#2a3f5f",
             "gridcolor": "white",
             "linecolor": "white",
             "minorgridcolor": "white",
             "startlinecolor": "#2a3f5f"
            },
            "baxis": {
             "endlinecolor": "#2a3f5f",
             "gridcolor": "white",
             "linecolor": "white",
             "minorgridcolor": "white",
             "startlinecolor": "#2a3f5f"
            },
            "type": "carpet"
           }
          ],
          "choropleth": [
           {
            "colorbar": {
             "outlinewidth": 0,
             "ticks": ""
            },
            "type": "choropleth"
           }
          ],
          "contour": [
           {
            "colorbar": {
             "outlinewidth": 0,
             "ticks": ""
            },
            "colorscale": [
             [
              0,
              "#0d0887"
             ],
             [
              0.1111111111111111,
              "#46039f"
             ],
             [
              0.2222222222222222,
              "#7201a8"
             ],
             [
              0.3333333333333333,
              "#9c179e"
             ],
             [
              0.4444444444444444,
              "#bd3786"
             ],
             [
              0.5555555555555556,
              "#d8576b"
             ],
             [
              0.6666666666666666,
              "#ed7953"
             ],
             [
              0.7777777777777778,
              "#fb9f3a"
             ],
             [
              0.8888888888888888,
              "#fdca26"
             ],
             [
              1,
              "#f0f921"
             ]
            ],
            "type": "contour"
           }
          ],
          "contourcarpet": [
           {
            "colorbar": {
             "outlinewidth": 0,
             "ticks": ""
            },
            "type": "contourcarpet"
           }
          ],
          "heatmap": [
           {
            "colorbar": {
             "outlinewidth": 0,
             "ticks": ""
            },
            "colorscale": [
             [
              0,
              "#0d0887"
             ],
             [
              0.1111111111111111,
              "#46039f"
             ],
             [
              0.2222222222222222,
              "#7201a8"
             ],
             [
              0.3333333333333333,
              "#9c179e"
             ],
             [
              0.4444444444444444,
              "#bd3786"
             ],
             [
              0.5555555555555556,
              "#d8576b"
             ],
             [
              0.6666666666666666,
              "#ed7953"
             ],
             [
              0.7777777777777778,
              "#fb9f3a"
             ],
             [
              0.8888888888888888,
              "#fdca26"
             ],
             [
              1,
              "#f0f921"
             ]
            ],
            "type": "heatmap"
           }
          ],
          "heatmapgl": [
           {
            "colorbar": {
             "outlinewidth": 0,
             "ticks": ""
            },
            "colorscale": [
             [
              0,
              "#0d0887"
             ],
             [
              0.1111111111111111,
              "#46039f"
             ],
             [
              0.2222222222222222,
              "#7201a8"
             ],
             [
              0.3333333333333333,
              "#9c179e"
             ],
             [
              0.4444444444444444,
              "#bd3786"
             ],
             [
              0.5555555555555556,
              "#d8576b"
             ],
             [
              0.6666666666666666,
              "#ed7953"
             ],
             [
              0.7777777777777778,
              "#fb9f3a"
             ],
             [
              0.8888888888888888,
              "#fdca26"
             ],
             [
              1,
              "#f0f921"
             ]
            ],
            "type": "heatmapgl"
           }
          ],
          "histogram": [
           {
            "marker": {
             "colorbar": {
              "outlinewidth": 0,
              "ticks": ""
             }
            },
            "type": "histogram"
           }
          ],
          "histogram2d": [
           {
            "colorbar": {
             "outlinewidth": 0,
             "ticks": ""
            },
            "colorscale": [
             [
              0,
              "#0d0887"
             ],
             [
              0.1111111111111111,
              "#46039f"
             ],
             [
              0.2222222222222222,
              "#7201a8"
             ],
             [
              0.3333333333333333,
              "#9c179e"
             ],
             [
              0.4444444444444444,
              "#bd3786"
             ],
             [
              0.5555555555555556,
              "#d8576b"
             ],
             [
              0.6666666666666666,
              "#ed7953"
             ],
             [
              0.7777777777777778,
              "#fb9f3a"
             ],
             [
              0.8888888888888888,
              "#fdca26"
             ],
             [
              1,
              "#f0f921"
             ]
            ],
            "type": "histogram2d"
           }
          ],
          "histogram2dcontour": [
           {
            "colorbar": {
             "outlinewidth": 0,
             "ticks": ""
            },
            "colorscale": [
             [
              0,
              "#0d0887"
             ],
             [
              0.1111111111111111,
              "#46039f"
             ],
             [
              0.2222222222222222,
              "#7201a8"
             ],
             [
              0.3333333333333333,
              "#9c179e"
             ],
             [
              0.4444444444444444,
              "#bd3786"
             ],
             [
              0.5555555555555556,
              "#d8576b"
             ],
             [
              0.6666666666666666,
              "#ed7953"
             ],
             [
              0.7777777777777778,
              "#fb9f3a"
             ],
             [
              0.8888888888888888,
              "#fdca26"
             ],
             [
              1,
              "#f0f921"
             ]
            ],
            "type": "histogram2dcontour"
           }
          ],
          "mesh3d": [
           {
            "colorbar": {
             "outlinewidth": 0,
             "ticks": ""
            },
            "type": "mesh3d"
           }
          ],
          "parcoords": [
           {
            "line": {
             "colorbar": {
              "outlinewidth": 0,
              "ticks": ""
             }
            },
            "type": "parcoords"
           }
          ],
          "pie": [
           {
            "automargin": true,
            "type": "pie"
           }
          ],
          "scatter": [
           {
            "marker": {
             "colorbar": {
              "outlinewidth": 0,
              "ticks": ""
             }
            },
            "type": "scatter"
           }
          ],
          "scatter3d": [
           {
            "line": {
             "colorbar": {
              "outlinewidth": 0,
              "ticks": ""
             }
            },
            "marker": {
             "colorbar": {
              "outlinewidth": 0,
              "ticks": ""
             }
            },
            "type": "scatter3d"
           }
          ],
          "scattercarpet": [
           {
            "marker": {
             "colorbar": {
              "outlinewidth": 0,
              "ticks": ""
             }
            },
            "type": "scattercarpet"
           }
          ],
          "scattergeo": [
           {
            "marker": {
             "colorbar": {
              "outlinewidth": 0,
              "ticks": ""
             }
            },
            "type": "scattergeo"
           }
          ],
          "scattergl": [
           {
            "marker": {
             "colorbar": {
              "outlinewidth": 0,
              "ticks": ""
             }
            },
            "type": "scattergl"
           }
          ],
          "scattermapbox": [
           {
            "marker": {
             "colorbar": {
              "outlinewidth": 0,
              "ticks": ""
             }
            },
            "type": "scattermapbox"
           }
          ],
          "scatterpolar": [
           {
            "marker": {
             "colorbar": {
              "outlinewidth": 0,
              "ticks": ""
             }
            },
            "type": "scatterpolar"
           }
          ],
          "scatterpolargl": [
           {
            "marker": {
             "colorbar": {
              "outlinewidth": 0,
              "ticks": ""
             }
            },
            "type": "scatterpolargl"
           }
          ],
          "scatterternary": [
           {
            "marker": {
             "colorbar": {
              "outlinewidth": 0,
              "ticks": ""
             }
            },
            "type": "scatterternary"
           }
          ],
          "surface": [
           {
            "colorbar": {
             "outlinewidth": 0,
             "ticks": ""
            },
            "colorscale": [
             [
              0,
              "#0d0887"
             ],
             [
              0.1111111111111111,
              "#46039f"
             ],
             [
              0.2222222222222222,
              "#7201a8"
             ],
             [
              0.3333333333333333,
              "#9c179e"
             ],
             [
              0.4444444444444444,
              "#bd3786"
             ],
             [
              0.5555555555555556,
              "#d8576b"
             ],
             [
              0.6666666666666666,
              "#ed7953"
             ],
             [
              0.7777777777777778,
              "#fb9f3a"
             ],
             [
              0.8888888888888888,
              "#fdca26"
             ],
             [
              1,
              "#f0f921"
             ]
            ],
            "type": "surface"
           }
          ],
          "table": [
           {
            "cells": {
             "fill": {
              "color": "#EBF0F8"
             },
             "line": {
              "color": "white"
             }
            },
            "header": {
             "fill": {
              "color": "#C8D4E3"
             },
             "line": {
              "color": "white"
             }
            },
            "type": "table"
           }
          ]
         },
         "layout": {
          "annotationdefaults": {
           "arrowcolor": "#2a3f5f",
           "arrowhead": 0,
           "arrowwidth": 1
          },
          "coloraxis": {
           "colorbar": {
            "outlinewidth": 0,
            "ticks": ""
           }
          },
          "colorscale": {
           "diverging": [
            [
             0,
             "#8e0152"
            ],
            [
             0.1,
             "#c51b7d"
            ],
            [
             0.2,
             "#de77ae"
            ],
            [
             0.3,
             "#f1b6da"
            ],
            [
             0.4,
             "#fde0ef"
            ],
            [
             0.5,
             "#f7f7f7"
            ],
            [
             0.6,
             "#e6f5d0"
            ],
            [
             0.7,
             "#b8e186"
            ],
            [
             0.8,
             "#7fbc41"
            ],
            [
             0.9,
             "#4d9221"
            ],
            [
             1,
             "#276419"
            ]
           ],
           "sequential": [
            [
             0,
             "#0d0887"
            ],
            [
             0.1111111111111111,
             "#46039f"
            ],
            [
             0.2222222222222222,
             "#7201a8"
            ],
            [
             0.3333333333333333,
             "#9c179e"
            ],
            [
             0.4444444444444444,
             "#bd3786"
            ],
            [
             0.5555555555555556,
             "#d8576b"
            ],
            [
             0.6666666666666666,
             "#ed7953"
            ],
            [
             0.7777777777777778,
             "#fb9f3a"
            ],
            [
             0.8888888888888888,
             "#fdca26"
            ],
            [
             1,
             "#f0f921"
            ]
           ],
           "sequentialminus": [
            [
             0,
             "#0d0887"
            ],
            [
             0.1111111111111111,
             "#46039f"
            ],
            [
             0.2222222222222222,
             "#7201a8"
            ],
            [
             0.3333333333333333,
             "#9c179e"
            ],
            [
             0.4444444444444444,
             "#bd3786"
            ],
            [
             0.5555555555555556,
             "#d8576b"
            ],
            [
             0.6666666666666666,
             "#ed7953"
            ],
            [
             0.7777777777777778,
             "#fb9f3a"
            ],
            [
             0.8888888888888888,
             "#fdca26"
            ],
            [
             1,
             "#f0f921"
            ]
           ]
          },
          "colorway": [
           "#636efa",
           "#EF553B",
           "#00cc96",
           "#ab63fa",
           "#FFA15A",
           "#19d3f3",
           "#FF6692",
           "#B6E880",
           "#FF97FF",
           "#FECB52"
          ],
          "font": {
           "color": "#2a3f5f"
          },
          "geo": {
           "bgcolor": "white",
           "lakecolor": "white",
           "landcolor": "#E5ECF6",
           "showlakes": true,
           "showland": true,
           "subunitcolor": "white"
          },
          "hoverlabel": {
           "align": "left"
          },
          "hovermode": "closest",
          "mapbox": {
           "style": "light"
          },
          "paper_bgcolor": "white",
          "plot_bgcolor": "#E5ECF6",
          "polar": {
           "angularaxis": {
            "gridcolor": "white",
            "linecolor": "white",
            "ticks": ""
           },
           "bgcolor": "#E5ECF6",
           "radialaxis": {
            "gridcolor": "white",
            "linecolor": "white",
            "ticks": ""
           }
          },
          "scene": {
           "xaxis": {
            "backgroundcolor": "#E5ECF6",
            "gridcolor": "white",
            "gridwidth": 2,
            "linecolor": "white",
            "showbackground": true,
            "ticks": "",
            "zerolinecolor": "white"
           },
           "yaxis": {
            "backgroundcolor": "#E5ECF6",
            "gridcolor": "white",
            "gridwidth": 2,
            "linecolor": "white",
            "showbackground": true,
            "ticks": "",
            "zerolinecolor": "white"
           },
           "zaxis": {
            "backgroundcolor": "#E5ECF6",
            "gridcolor": "white",
            "gridwidth": 2,
            "linecolor": "white",
            "showbackground": true,
            "ticks": "",
            "zerolinecolor": "white"
           }
          },
          "shapedefaults": {
           "line": {
            "color": "#2a3f5f"
           }
          },
          "ternary": {
           "aaxis": {
            "gridcolor": "white",
            "linecolor": "white",
            "ticks": ""
           },
           "baxis": {
            "gridcolor": "white",
            "linecolor": "white",
            "ticks": ""
           },
           "bgcolor": "#E5ECF6",
           "caxis": {
            "gridcolor": "white",
            "linecolor": "white",
            "ticks": ""
           }
          },
          "title": {
           "x": 0.05
          },
          "xaxis": {
           "automargin": true,
           "gridcolor": "white",
           "linecolor": "white",
           "ticks": "",
           "title": {
            "standoff": 15
           },
           "zerolinecolor": "white",
           "zerolinewidth": 2
          },
          "yaxis": {
           "automargin": true,
           "gridcolor": "white",
           "linecolor": "white",
           "ticks": "",
           "title": {
            "standoff": 15
           },
           "zerolinecolor": "white",
           "zerolinewidth": 2
          }
         }
        },
        "xaxis": {
         "anchor": "y",
         "domain": [
          0,
          1
         ],
         "title": {
          "text": "priceAvg"
         },
         "type": "log"
        },
        "yaxis": {
         "anchor": "x",
         "domain": [
          0,
          1
         ],
         "title": {
          "text": "count"
         }
        }
       }
      },
      "text/html": [
       "<div>                            <div id=\"f495353b-b8e9-462a-a4ef-37c32332150c\" class=\"plotly-graph-div\" style=\"height:525px; width:100%;\"></div>            <script type=\"text/javascript\">                require([\"plotly\"], function(Plotly) {                    window.PLOTLYENV=window.PLOTLYENV || {};                                    if (document.getElementById(\"f495353b-b8e9-462a-a4ef-37c32332150c\")) {                    Plotly.newPlot(                        \"f495353b-b8e9-462a-a4ef-37c32332150c\",                        [{\"alignmentgroup\": \"True\", \"bingroup\": \"x\", \"hovertemplate\": \"priceAvg=%{x}<br>count=%{y}<extra></extra>\", \"legendgroup\": \"\", \"marker\": {\"color\": \"#636efa\"}, \"name\": \"\", \"nbinsx\": 33, \"offsetgroup\": \"\", \"orientation\": \"v\", \"showlegend\": false, \"type\": \"histogram\", \"x\": [182.78732585943104, 2.6200291468204475, 17.101465115468542, 5.679549961072331, 197.4413111401414, 63.36081252819124, 209.17110175202154, 51.314916982517516, 194.8160828885631, 678.805773556231, 11.572918123256306, 9.845824059250695, 17.728937489058122, 163.03676401391985, 8.634427635432338, 171.08589672216442, 329.0898792899408, 152.71787872154118, 69.45229688096539, 327.98430923690995, 226.54121437503787, 786.2445699226986, 378.8909303240741, 3.483827556206831, 315.021352178152, 50.49076359615807, 52.942801428391, 182.51486178489716, 510.89693285661224, 73.12013963328354, 20.524765603893346, 32.82587909875167, 592.1401795189504, 285.7840257291859, 3910.6562291666664, 60.24093039985053, 10.817897796280395, 191.90007734562252, 934.1658866758241, 820.1366651515152, 20.207905948079503, 631.9374535462728, 108.50715365742973, 3.3914866813785136, 166.0181954242858, 220.19752679174226, 73.49700204230922, 54.63059616150443, 84.03180229037247, 314.41673537196004, 25.53071742158927, 280.78791543700345, 150.7078840274664, 114.18684622622222, 189.49848094553784, 49.9992519629082, 120.26708010412194, 9.096773224807562, 1.5462291402653408, 20.811327115545147, 16.645511079750186, 50.4862152976499, 242.35893752256766, 88.05150047369693, 23.970410171350796, 43.10772125045729, 5.0194101345205775, 54.310960998554826, 61.77486613745106, 107.37441618423281, 25.396598024058466, 9.427228485698084, 276.14523408043425, 32.59558109448594, 65.15045368835689, 11.436169694067425, 5.6765907190787726, 20.472693084777237, 85.40254567901233, 17.180451753468223, 1344.620164358108, 1170.1943094128924, 93.12569447658169, 348.81077654206405, 59.741413570127506, 5.175011119332322, 19.014851971728987, 91.35045107677902, 7.6545427542420414, 7.050710560546591, 49.732233372509604, 196.77588769963165, 84.70009472475394, 91.92883189417573, 122.13929879992182, 419.25691280832933, 679.9085127659574, 155.59062230215827, 70.17545352898249, 123.46475939769617, 63.866373690012686, 147.5924753863345, 292.62810059434486, 113.66967149867172, 10.642617948877886, 53.19586104753521, 52.78380307065181, 72.24398970506172, 66.10744538606623, 1907.2929831460672, 10.935130362615865, 154.72188864379692, 44.95025674910106, 44.16693406718865, 170.07815654749655, 175.29066903782532, 29.957706527580292, 10.56745461705606, 892.587851735706, 273.2384901571902, 57.646502695305436, 78.01032033905035, 8.44456438391259, 65.38048033337301, 10.12152146306354, 210.05193764873871, 2900.989381451613, 621.4331008745879, 22.06822171033446, 63.017582637252275, 166.24189352083607, 94.6361948179144, 510.15132821130527, 177.50345066603984, 67.55632003180412, 515.6899069484937, 73.97797682219118, 240.66020893457292, 277.730904540163, 103.84645405001963, 84.01141436961353, 232.01083846902787, 261.5494101405963, 301.6294054902856, 59.30721163366336, 199.7428834561093, 189.45849738781698, 59.58132260012159, 46.333762966779496, 1.0865508900414118, 2532.875504545454, 148.39784693581737, 107.960272867626, 45.07958514507606, 253.62736487176574, 77.99634823500438, 15.639383884461987, 127.73065784927726, 50.23508889862528, 21.642788827316384, 32.92119440543608, 170.80903027199355, 52.98310684865316, 31.166520022239297, 1.1708591792348169, 71.25782234345328, 97.02690333651556, 139.65252994538224, 141.52549722921913, 76.60056708229025, 13.21893639254386, 193.80763909757255, 229.44799056046006, 479.92317943548386], \"xaxis\": \"x\", \"yaxis\": \"y\"}],                        {\"barmode\": \"relative\", \"legend\": {\"tracegroupgap\": 0}, \"margin\": {\"t\": 60}, \"template\": {\"data\": {\"bar\": [{\"error_x\": {\"color\": \"#2a3f5f\"}, \"error_y\": {\"color\": \"#2a3f5f\"}, \"marker\": {\"line\": {\"color\": \"#E5ECF6\", \"width\": 0.5}}, \"type\": \"bar\"}], \"barpolar\": [{\"marker\": {\"line\": {\"color\": \"#E5ECF6\", \"width\": 0.5}}, \"type\": \"barpolar\"}], \"carpet\": [{\"aaxis\": {\"endlinecolor\": \"#2a3f5f\", \"gridcolor\": \"white\", \"linecolor\": \"white\", \"minorgridcolor\": \"white\", \"startlinecolor\": \"#2a3f5f\"}, \"baxis\": {\"endlinecolor\": \"#2a3f5f\", \"gridcolor\": \"white\", \"linecolor\": \"white\", \"minorgridcolor\": \"white\", \"startlinecolor\": \"#2a3f5f\"}, \"type\": \"carpet\"}], \"choropleth\": [{\"colorbar\": {\"outlinewidth\": 0, \"ticks\": \"\"}, \"type\": \"choropleth\"}], \"contour\": [{\"colorbar\": {\"outlinewidth\": 0, \"ticks\": \"\"}, \"colorscale\": [[0.0, \"#0d0887\"], [0.1111111111111111, \"#46039f\"], [0.2222222222222222, \"#7201a8\"], [0.3333333333333333, \"#9c179e\"], [0.4444444444444444, \"#bd3786\"], [0.5555555555555556, \"#d8576b\"], [0.6666666666666666, \"#ed7953\"], [0.7777777777777778, \"#fb9f3a\"], [0.8888888888888888, \"#fdca26\"], [1.0, \"#f0f921\"]], \"type\": \"contour\"}], \"contourcarpet\": [{\"colorbar\": {\"outlinewidth\": 0, \"ticks\": \"\"}, \"type\": \"contourcarpet\"}], \"heatmap\": [{\"colorbar\": {\"outlinewidth\": 0, \"ticks\": \"\"}, \"colorscale\": [[0.0, \"#0d0887\"], [0.1111111111111111, \"#46039f\"], [0.2222222222222222, \"#7201a8\"], [0.3333333333333333, \"#9c179e\"], [0.4444444444444444, \"#bd3786\"], [0.5555555555555556, \"#d8576b\"], [0.6666666666666666, \"#ed7953\"], [0.7777777777777778, \"#fb9f3a\"], [0.8888888888888888, \"#fdca26\"], [1.0, \"#f0f921\"]], \"type\": \"heatmap\"}], \"heatmapgl\": [{\"colorbar\": {\"outlinewidth\": 0, \"ticks\": \"\"}, \"colorscale\": [[0.0, \"#0d0887\"], [0.1111111111111111, \"#46039f\"], [0.2222222222222222, \"#7201a8\"], [0.3333333333333333, \"#9c179e\"], [0.4444444444444444, \"#bd3786\"], [0.5555555555555556, \"#d8576b\"], [0.6666666666666666, \"#ed7953\"], [0.7777777777777778, \"#fb9f3a\"], [0.8888888888888888, \"#fdca26\"], [1.0, \"#f0f921\"]], \"type\": \"heatmapgl\"}], \"histogram\": [{\"marker\": {\"colorbar\": {\"outlinewidth\": 0, \"ticks\": \"\"}}, \"type\": \"histogram\"}], \"histogram2d\": [{\"colorbar\": {\"outlinewidth\": 0, \"ticks\": \"\"}, \"colorscale\": [[0.0, \"#0d0887\"], [0.1111111111111111, \"#46039f\"], [0.2222222222222222, \"#7201a8\"], [0.3333333333333333, \"#9c179e\"], [0.4444444444444444, \"#bd3786\"], [0.5555555555555556, \"#d8576b\"], [0.6666666666666666, \"#ed7953\"], [0.7777777777777778, \"#fb9f3a\"], [0.8888888888888888, \"#fdca26\"], [1.0, \"#f0f921\"]], \"type\": \"histogram2d\"}], \"histogram2dcontour\": [{\"colorbar\": {\"outlinewidth\": 0, \"ticks\": \"\"}, \"colorscale\": [[0.0, \"#0d0887\"], [0.1111111111111111, \"#46039f\"], [0.2222222222222222, \"#7201a8\"], [0.3333333333333333, \"#9c179e\"], [0.4444444444444444, \"#bd3786\"], [0.5555555555555556, \"#d8576b\"], [0.6666666666666666, \"#ed7953\"], [0.7777777777777778, \"#fb9f3a\"], [0.8888888888888888, \"#fdca26\"], [1.0, \"#f0f921\"]], \"type\": \"histogram2dcontour\"}], \"mesh3d\": [{\"colorbar\": {\"outlinewidth\": 0, \"ticks\": \"\"}, \"type\": \"mesh3d\"}], \"parcoords\": [{\"line\": {\"colorbar\": {\"outlinewidth\": 0, \"ticks\": \"\"}}, \"type\": \"parcoords\"}], \"pie\": [{\"automargin\": true, \"type\": \"pie\"}], \"scatter\": [{\"marker\": {\"colorbar\": {\"outlinewidth\": 0, \"ticks\": \"\"}}, \"type\": \"scatter\"}], \"scatter3d\": [{\"line\": {\"colorbar\": {\"outlinewidth\": 0, \"ticks\": \"\"}}, \"marker\": {\"colorbar\": {\"outlinewidth\": 0, \"ticks\": \"\"}}, \"type\": \"scatter3d\"}], \"scattercarpet\": [{\"marker\": {\"colorbar\": {\"outlinewidth\": 0, \"ticks\": \"\"}}, \"type\": \"scattercarpet\"}], \"scattergeo\": [{\"marker\": {\"colorbar\": {\"outlinewidth\": 0, \"ticks\": \"\"}}, \"type\": \"scattergeo\"}], \"scattergl\": [{\"marker\": {\"colorbar\": {\"outlinewidth\": 0, \"ticks\": \"\"}}, \"type\": \"scattergl\"}], \"scattermapbox\": [{\"marker\": {\"colorbar\": {\"outlinewidth\": 0, \"ticks\": \"\"}}, \"type\": \"scattermapbox\"}], \"scatterpolar\": [{\"marker\": {\"colorbar\": {\"outlinewidth\": 0, \"ticks\": \"\"}}, \"type\": \"scatterpolar\"}], \"scatterpolargl\": [{\"marker\": {\"colorbar\": {\"outlinewidth\": 0, \"ticks\": \"\"}}, \"type\": \"scatterpolargl\"}], \"scatterternary\": [{\"marker\": {\"colorbar\": {\"outlinewidth\": 0, \"ticks\": \"\"}}, \"type\": \"scatterternary\"}], \"surface\": [{\"colorbar\": {\"outlinewidth\": 0, \"ticks\": \"\"}, \"colorscale\": [[0.0, \"#0d0887\"], [0.1111111111111111, \"#46039f\"], [0.2222222222222222, \"#7201a8\"], [0.3333333333333333, \"#9c179e\"], [0.4444444444444444, \"#bd3786\"], [0.5555555555555556, \"#d8576b\"], [0.6666666666666666, \"#ed7953\"], [0.7777777777777778, \"#fb9f3a\"], [0.8888888888888888, \"#fdca26\"], [1.0, \"#f0f921\"]], \"type\": \"surface\"}], \"table\": [{\"cells\": {\"fill\": {\"color\": \"#EBF0F8\"}, \"line\": {\"color\": \"white\"}}, \"header\": {\"fill\": {\"color\": \"#C8D4E3\"}, \"line\": {\"color\": \"white\"}}, \"type\": \"table\"}]}, \"layout\": {\"annotationdefaults\": {\"arrowcolor\": \"#2a3f5f\", \"arrowhead\": 0, \"arrowwidth\": 1}, \"coloraxis\": {\"colorbar\": {\"outlinewidth\": 0, \"ticks\": \"\"}}, \"colorscale\": {\"diverging\": [[0, \"#8e0152\"], [0.1, \"#c51b7d\"], [0.2, \"#de77ae\"], [0.3, \"#f1b6da\"], [0.4, \"#fde0ef\"], [0.5, \"#f7f7f7\"], [0.6, \"#e6f5d0\"], [0.7, \"#b8e186\"], [0.8, \"#7fbc41\"], [0.9, \"#4d9221\"], [1, \"#276419\"]], \"sequential\": [[0.0, \"#0d0887\"], [0.1111111111111111, \"#46039f\"], [0.2222222222222222, \"#7201a8\"], [0.3333333333333333, \"#9c179e\"], [0.4444444444444444, \"#bd3786\"], [0.5555555555555556, \"#d8576b\"], [0.6666666666666666, \"#ed7953\"], [0.7777777777777778, \"#fb9f3a\"], [0.8888888888888888, \"#fdca26\"], [1.0, \"#f0f921\"]], \"sequentialminus\": [[0.0, \"#0d0887\"], [0.1111111111111111, \"#46039f\"], [0.2222222222222222, \"#7201a8\"], [0.3333333333333333, \"#9c179e\"], [0.4444444444444444, \"#bd3786\"], [0.5555555555555556, \"#d8576b\"], [0.6666666666666666, \"#ed7953\"], [0.7777777777777778, \"#fb9f3a\"], [0.8888888888888888, \"#fdca26\"], [1.0, \"#f0f921\"]]}, \"colorway\": [\"#636efa\", \"#EF553B\", \"#00cc96\", \"#ab63fa\", \"#FFA15A\", \"#19d3f3\", \"#FF6692\", \"#B6E880\", \"#FF97FF\", \"#FECB52\"], \"font\": {\"color\": \"#2a3f5f\"}, \"geo\": {\"bgcolor\": \"white\", \"lakecolor\": \"white\", \"landcolor\": \"#E5ECF6\", \"showlakes\": true, \"showland\": true, \"subunitcolor\": \"white\"}, \"hoverlabel\": {\"align\": \"left\"}, \"hovermode\": \"closest\", \"mapbox\": {\"style\": \"light\"}, \"paper_bgcolor\": \"white\", \"plot_bgcolor\": \"#E5ECF6\", \"polar\": {\"angularaxis\": {\"gridcolor\": \"white\", \"linecolor\": \"white\", \"ticks\": \"\"}, \"bgcolor\": \"#E5ECF6\", \"radialaxis\": {\"gridcolor\": \"white\", \"linecolor\": \"white\", \"ticks\": \"\"}}, \"scene\": {\"xaxis\": {\"backgroundcolor\": \"#E5ECF6\", \"gridcolor\": \"white\", \"gridwidth\": 2, \"linecolor\": \"white\", \"showbackground\": true, \"ticks\": \"\", \"zerolinecolor\": \"white\"}, \"yaxis\": {\"backgroundcolor\": \"#E5ECF6\", \"gridcolor\": \"white\", \"gridwidth\": 2, \"linecolor\": \"white\", \"showbackground\": true, \"ticks\": \"\", \"zerolinecolor\": \"white\"}, \"zaxis\": {\"backgroundcolor\": \"#E5ECF6\", \"gridcolor\": \"white\", \"gridwidth\": 2, \"linecolor\": \"white\", \"showbackground\": true, \"ticks\": \"\", \"zerolinecolor\": \"white\"}}, \"shapedefaults\": {\"line\": {\"color\": \"#2a3f5f\"}}, \"ternary\": {\"aaxis\": {\"gridcolor\": \"white\", \"linecolor\": \"white\", \"ticks\": \"\"}, \"baxis\": {\"gridcolor\": \"white\", \"linecolor\": \"white\", \"ticks\": \"\"}, \"bgcolor\": \"#E5ECF6\", \"caxis\": {\"gridcolor\": \"white\", \"linecolor\": \"white\", \"ticks\": \"\"}}, \"title\": {\"x\": 0.05}, \"xaxis\": {\"automargin\": true, \"gridcolor\": \"white\", \"linecolor\": \"white\", \"ticks\": \"\", \"title\": {\"standoff\": 15}, \"zerolinecolor\": \"white\", \"zerolinewidth\": 2}, \"yaxis\": {\"automargin\": true, \"gridcolor\": \"white\", \"linecolor\": \"white\", \"ticks\": \"\", \"title\": {\"standoff\": 15}, \"zerolinecolor\": \"white\", \"zerolinewidth\": 2}}}, \"xaxis\": {\"anchor\": \"y\", \"domain\": [0.0, 1.0], \"title\": {\"text\": \"priceAvg\"}, \"type\": \"log\"}, \"yaxis\": {\"anchor\": \"x\", \"domain\": [0.0, 1.0], \"title\": {\"text\": \"count\"}}},                        {\"responsive\": true}                    ).then(function(){\n",
       "                            \n",
       "var gd = document.getElementById('f495353b-b8e9-462a-a4ef-37c32332150c');\n",
       "var x = new MutationObserver(function (mutations, observer) {{\n",
       "        var display = window.getComputedStyle(gd).display;\n",
       "        if (!display || display === 'none') {{\n",
       "            console.log([gd, 'removed!']);\n",
       "            Plotly.purge(gd);\n",
       "            observer.disconnect();\n",
       "        }}\n",
       "}});\n",
       "\n",
       "// Listen for the removal of the full notebook cells\n",
       "var notebookContainer = gd.closest('#notebook-container');\n",
       "if (notebookContainer) {{\n",
       "    x.observe(notebookContainer, {childList: true});\n",
       "}}\n",
       "\n",
       "// Listen for the clearing of the current output cell\n",
       "var outputEl = gd.closest('.output');\n",
       "if (outputEl) {{\n",
       "    x.observe(outputEl, {childList: true});\n",
       "}}\n",
       "\n",
       "                        })                };                });            </script>        </div>"
      ]
     },
     "metadata": {},
     "output_type": "display_data"
    }
   ],
   "source": [
    "fig = px.histogram(df_ak47, x='priceAvg', nbins=33, log_x=True)\n",
    "fig.show()"
   ]
  },
  {
   "cell_type": "code",
   "execution_count": null,
   "id": "375930e4",
   "metadata": {},
   "outputs": [],
   "source": []
  }
 ],
 "metadata": {
  "kernelspec": {
   "display_name": "Python 3",
   "language": "python",
   "name": "python3"
  },
  "language_info": {
   "codemirror_mode": {
    "name": "ipython",
    "version": 3
   },
   "file_extension": ".py",
   "mimetype": "text/x-python",
   "name": "python",
   "nbconvert_exporter": "python",
   "pygments_lexer": "ipython3",
   "version": "3.8.8"
  }
 },
 "nbformat": 4,
 "nbformat_minor": 5
}
